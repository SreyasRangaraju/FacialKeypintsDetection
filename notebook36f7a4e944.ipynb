{
 "cells": [
  {
   "cell_type": "code",
   "execution_count": 1,
   "id": "97e24e5c",
   "metadata": {
    "execution": {
     "iopub.execute_input": "2023-05-03T00:39:21.330448Z",
     "iopub.status.busy": "2023-05-03T00:39:21.329850Z",
     "iopub.status.idle": "2023-05-03T00:39:32.780834Z",
     "shell.execute_reply": "2023-05-03T00:39:32.779623Z"
    },
    "papermill": {
     "duration": 11.464954,
     "end_time": "2023-05-03T00:39:32.783711",
     "exception": false,
     "start_time": "2023-05-03T00:39:21.318757",
     "status": "completed"
    },
    "tags": []
   },
   "outputs": [
    {
     "name": "stdout",
     "output_type": "stream",
     "text": [
      "/bin/bash: /opt/conda/lib/libtinfo.so.6: no version information available (required by /bin/bash)\r\n",
      "Collecting torch-lr-finder\r\n",
      "  Downloading torch_lr_finder-0.2.1-py3-none-any.whl (11 kB)\r\n",
      "Requirement already satisfied: torch>=0.4.1 in /opt/conda/lib/python3.7/site-packages (from torch-lr-finder) (1.12.0)\r\n",
      "Requirement already satisfied: packaging in /opt/conda/lib/python3.7/site-packages (from torch-lr-finder) (23.0)\r\n",
      "Requirement already satisfied: tqdm in /opt/conda/lib/python3.7/site-packages (from torch-lr-finder) (4.64.1)\r\n",
      "Requirement already satisfied: matplotlib in /opt/conda/lib/python3.7/site-packages (from torch-lr-finder) (3.5.3)\r\n",
      "Requirement already satisfied: numpy in /opt/conda/lib/python3.7/site-packages (from torch-lr-finder) (1.21.6)\r\n",
      "Requirement already satisfied: typing-extensions in /opt/conda/lib/python3.7/site-packages (from torch>=0.4.1->torch-lr-finder) (4.1.1)\r\n",
      "Requirement already satisfied: python-dateutil>=2.7 in /opt/conda/lib/python3.7/site-packages (from matplotlib->torch-lr-finder) (2.8.2)\r\n",
      "Requirement already satisfied: pyparsing>=2.2.1 in /opt/conda/lib/python3.7/site-packages (from matplotlib->torch-lr-finder) (3.0.9)\r\n",
      "Requirement already satisfied: pillow>=6.2.0 in /opt/conda/lib/python3.7/site-packages (from matplotlib->torch-lr-finder) (9.2.0)\r\n",
      "Requirement already satisfied: cycler>=0.10 in /opt/conda/lib/python3.7/site-packages (from matplotlib->torch-lr-finder) (0.11.0)\r\n",
      "Requirement already satisfied: kiwisolver>=1.0.1 in /opt/conda/lib/python3.7/site-packages (from matplotlib->torch-lr-finder) (1.4.4)\r\n",
      "Requirement already satisfied: fonttools>=4.22.0 in /opt/conda/lib/python3.7/site-packages (from matplotlib->torch-lr-finder) (4.37.1)\r\n",
      "Requirement already satisfied: six>=1.5 in /opt/conda/lib/python3.7/site-packages (from python-dateutil>=2.7->matplotlib->torch-lr-finder) (1.16.0)\r\n",
      "Installing collected packages: torch-lr-finder\r\n",
      "Successfully installed torch-lr-finder-0.2.1\r\n",
      "\u001b[33mWARNING: Running pip as the 'root' user can result in broken permissions and conflicting behaviour with the system package manager. It is recommended to use a virtual environment instead: https://pip.pypa.io/warnings/venv\u001b[0m\u001b[33m\r\n",
      "\u001b[0m"
     ]
    }
   ],
   "source": [
    "!pip install torch-lr-finder;"
   ]
  },
  {
   "cell_type": "code",
   "execution_count": 2,
   "id": "04f4a9af",
   "metadata": {
    "_cell_guid": "b1076dfc-b9ad-4769-8c92-a6c4dae69d19",
    "_uuid": "8f2839f25d086af736a60e9eeb907d3b93b6e0e5",
    "execution": {
     "iopub.execute_input": "2023-05-03T00:39:32.798460Z",
     "iopub.status.busy": "2023-05-03T00:39:32.798100Z",
     "iopub.status.idle": "2023-05-03T00:39:36.859480Z",
     "shell.execute_reply": "2023-05-03T00:39:36.858490Z"
    },
    "papermill": {
     "duration": 4.07146,
     "end_time": "2023-05-03T00:39:36.861855",
     "exception": false,
     "start_time": "2023-05-03T00:39:32.790395",
     "status": "completed"
    },
    "tags": []
   },
   "outputs": [],
   "source": [
    "import numpy as np\n",
    "import matplotlib.pyplot as plt\n",
    "import pandas as pd\n",
    "from IPython.display import clear_output\n",
    "from time import sleep\n",
    "import os\n",
    "import copy\n",
    "\n",
    "import torch\n",
    "import torch.nn as nn\n",
    "import torch.nn.functional as F\n",
    "import torch.optim as optim\n",
    "from torch.utils.data import Dataset, TensorDataset, DataLoader\n",
    "from torchvision import transforms, models\n",
    "from tqdm.notebook import tqdm\n",
    "import random\n",
    "from torch_lr_finder import LRFinder\n",
    "import albumentations as A\n",
    "from albumentations.pytorch import ToTensorV2"
   ]
  },
  {
   "cell_type": "markdown",
   "id": "3b8ee3e8",
   "metadata": {
    "papermill": {
     "duration": 0.006165,
     "end_time": "2023-05-03T00:39:36.874890",
     "exception": false,
     "start_time": "2023-05-03T00:39:36.868725",
     "status": "completed"
    },
    "tags": []
   },
   "source": [
    "Set up data"
   ]
  },
  {
   "cell_type": "code",
   "execution_count": 3,
   "id": "628bcaa2",
   "metadata": {
    "execution": {
     "iopub.execute_input": "2023-05-03T00:39:36.888780Z",
     "iopub.status.busy": "2023-05-03T00:39:36.888286Z",
     "iopub.status.idle": "2023-05-03T00:39:40.022616Z",
     "shell.execute_reply": "2023-05-03T00:39:40.021567Z"
    },
    "papermill": {
     "duration": 3.144455,
     "end_time": "2023-05-03T00:39:40.025431",
     "exception": false,
     "start_time": "2023-05-03T00:39:36.880976",
     "status": "completed"
    },
    "tags": []
   },
   "outputs": [],
   "source": [
    "import zipfile\n",
    "with zipfile.ZipFile(\"/kaggle/input/facial-keypoints-detection/training.zip\",\"r\") as z:\n",
    "    z.extractall(\".\")\n",
    "with zipfile.ZipFile(\"/kaggle/input/facial-keypoints-detection/test.zip\",\"r\") as z:\n",
    "    z.extractall(\".\")"
   ]
  },
  {
   "cell_type": "code",
   "execution_count": 4,
   "id": "59f14cea",
   "metadata": {
    "execution": {
     "iopub.execute_input": "2023-05-03T00:39:40.039589Z",
     "iopub.status.busy": "2023-05-03T00:39:40.039269Z",
     "iopub.status.idle": "2023-05-03T00:39:42.669938Z",
     "shell.execute_reply": "2023-05-03T00:39:42.668985Z"
    },
    "papermill": {
     "duration": 2.640505,
     "end_time": "2023-05-03T00:39:42.672311",
     "exception": false,
     "start_time": "2023-05-03T00:39:40.031806",
     "status": "completed"
    },
    "tags": []
   },
   "outputs": [],
   "source": [
    "trainDir = '/kaggle/working/training.csv'\n",
    "testDir = '/kaggle/working/test.csv'\n",
    "idLookupDir = '/kaggle/input/facial-keypoints-detection/IdLookupTable.csv'\n",
    "trainData = pd.read_csv(trainDir)  \n",
    "testData = pd.read_csv(testDir)\n",
    "idLookupData = pd.read_csv(idLookupDir)"
   ]
  },
  {
   "cell_type": "code",
   "execution_count": 5,
   "id": "d8288a24",
   "metadata": {
    "execution": {
     "iopub.execute_input": "2023-05-03T00:39:42.686404Z",
     "iopub.status.busy": "2023-05-03T00:39:42.686050Z",
     "iopub.status.idle": "2023-05-03T00:39:44.112143Z",
     "shell.execute_reply": "2023-05-03T00:39:44.111158Z"
    },
    "papermill": {
     "duration": 1.435907,
     "end_time": "2023-05-03T00:39:44.114756",
     "exception": false,
     "start_time": "2023-05-03T00:39:42.678849",
     "status": "completed"
    },
    "tags": []
   },
   "outputs": [],
   "source": [
    "trainX = trainData['Image'].apply(lambda x: np.fromstring(x, dtype=np.uint8, sep=' '))\n",
    "trainX = np.stack(trainX.to_numpy()).reshape(trainData['Image'].shape[0], 96, 96)"
   ]
  },
  {
   "cell_type": "code",
   "execution_count": 6,
   "id": "ad8f48e7",
   "metadata": {
    "execution": {
     "iopub.execute_input": "2023-05-03T00:39:44.130343Z",
     "iopub.status.busy": "2023-05-03T00:39:44.128679Z",
     "iopub.status.idle": "2023-05-03T00:39:44.137572Z",
     "shell.execute_reply": "2023-05-03T00:39:44.136688Z"
    },
    "papermill": {
     "duration": 0.018377,
     "end_time": "2023-05-03T00:39:44.139703",
     "exception": false,
     "start_time": "2023-05-03T00:39:44.121326",
     "status": "completed"
    },
    "tags": []
   },
   "outputs": [],
   "source": [
    "trainY = np.array(trainData.iloc[:, :-1])"
   ]
  },
  {
   "cell_type": "markdown",
   "id": "90d70030",
   "metadata": {
    "papermill": {
     "duration": 0.005802,
     "end_time": "2023-05-03T00:39:44.151898",
     "exception": false,
     "start_time": "2023-05-03T00:39:44.146096",
     "status": "completed"
    },
    "tags": []
   },
   "source": [
    "Create Model"
   ]
  },
  {
   "cell_type": "code",
   "execution_count": 7,
   "id": "19611807",
   "metadata": {
    "execution": {
     "iopub.execute_input": "2023-05-03T00:39:44.165619Z",
     "iopub.status.busy": "2023-05-03T00:39:44.165317Z",
     "iopub.status.idle": "2023-05-03T00:39:44.171959Z",
     "shell.execute_reply": "2023-05-03T00:39:44.171154Z"
    },
    "papermill": {
     "duration": 0.015993,
     "end_time": "2023-05-03T00:39:44.174181",
     "exception": false,
     "start_time": "2023-05-03T00:39:44.158188",
     "status": "completed"
    },
    "tags": []
   },
   "outputs": [],
   "source": [
    "torch.manual_seed(0)\n",
    "np.random.seed(0)"
   ]
  },
  {
   "cell_type": "code",
   "execution_count": 8,
   "id": "858fd0e6",
   "metadata": {
    "execution": {
     "iopub.execute_input": "2023-05-03T00:39:44.187357Z",
     "iopub.status.busy": "2023-05-03T00:39:44.187034Z",
     "iopub.status.idle": "2023-05-03T00:39:44.192324Z",
     "shell.execute_reply": "2023-05-03T00:39:44.191366Z"
    },
    "papermill": {
     "duration": 0.014421,
     "end_time": "2023-05-03T00:39:44.194496",
     "exception": false,
     "start_time": "2023-05-03T00:39:44.180075",
     "status": "completed"
    },
    "tags": []
   },
   "outputs": [],
   "source": [
    "def plotImgNumpy(image, keypoints=None):\n",
    "    plt.imshow(image, cmap='gray')\n",
    "    if keypoints is not None:\n",
    "        keypoints = keypoints.reshape(15,2)\n",
    "        plt.plot(keypoints[:,0], keypoints[:,1], 'rx')"
   ]
  },
  {
   "cell_type": "code",
   "execution_count": 9,
   "id": "1fef9019",
   "metadata": {
    "execution": {
     "iopub.execute_input": "2023-05-03T00:39:44.208566Z",
     "iopub.status.busy": "2023-05-03T00:39:44.207795Z",
     "iopub.status.idle": "2023-05-03T00:39:44.213537Z",
     "shell.execute_reply": "2023-05-03T00:39:44.212541Z"
    },
    "papermill": {
     "duration": 0.015016,
     "end_time": "2023-05-03T00:39:44.215527",
     "exception": false,
     "start_time": "2023-05-03T00:39:44.200511",
     "status": "completed"
    },
    "tags": []
   },
   "outputs": [],
   "source": [
    "def plotImg(image, keypoints=None):\n",
    "    image = image[0].numpy()\n",
    "    plt.imshow(image, cmap='gray')\n",
    "    if keypoints is not None:\n",
    "        keypoints = keypoints.reshape(15,2)\n",
    "        plt.plot(keypoints[:,0] * 95, keypoints[:,1] * 95, 'rx')"
   ]
  },
  {
   "cell_type": "code",
   "execution_count": 10,
   "id": "5e9cb79c",
   "metadata": {
    "execution": {
     "iopub.execute_input": "2023-05-03T00:39:44.229874Z",
     "iopub.status.busy": "2023-05-03T00:39:44.228473Z",
     "iopub.status.idle": "2023-05-03T00:39:44.234080Z",
     "shell.execute_reply": "2023-05-03T00:39:44.233139Z"
    },
    "papermill": {
     "duration": 0.014645,
     "end_time": "2023-05-03T00:39:44.236047",
     "exception": false,
     "start_time": "2023-05-03T00:39:44.221402",
     "status": "completed"
    },
    "tags": []
   },
   "outputs": [],
   "source": [
    "def masked_mse_loss(input, target):\n",
    "    mask = ~torch.isnan(target)\n",
    "    masked_input = input[mask]\n",
    "    masked_target = target[mask]\n",
    "    return F.mse_loss(masked_input, masked_target)\n",
    "criterion = masked_mse_loss"
   ]
  },
  {
   "cell_type": "code",
   "execution_count": 11,
   "id": "953c411e",
   "metadata": {
    "execution": {
     "iopub.execute_input": "2023-05-03T00:39:44.249560Z",
     "iopub.status.busy": "2023-05-03T00:39:44.249018Z",
     "iopub.status.idle": "2023-05-03T00:39:44.254943Z",
     "shell.execute_reply": "2023-05-03T00:39:44.254025Z"
    },
    "papermill": {
     "duration": 0.014896,
     "end_time": "2023-05-03T00:39:44.256949",
     "exception": false,
     "start_time": "2023-05-03T00:39:44.242053",
     "status": "completed"
    },
    "tags": []
   },
   "outputs": [],
   "source": [
    "device = torch.device(\"cuda:0\" if torch.cuda.is_available() else \"cpu\")\n",
    "def getModel():\n",
    "    model = models.resnet18(pretrained=True)\n",
    "    model.fc = nn.Sequential(\n",
    "        nn.Linear(model.fc.in_features, 30),\n",
    "        nn.Sigmoid()\n",
    "    )\n",
    "    model = nn.Sequential(nn.Conv2d(1, 3, kernel_size=3, stride=1, padding=1, bias=True), model)\n",
    "    model.to(device, dtype=torch.float)\n",
    "    return model"
   ]
  },
  {
   "cell_type": "code",
   "execution_count": 12,
   "id": "5427bdb1",
   "metadata": {
    "execution": {
     "iopub.execute_input": "2023-05-03T00:39:44.270650Z",
     "iopub.status.busy": "2023-05-03T00:39:44.269806Z",
     "iopub.status.idle": "2023-05-03T00:39:44.280461Z",
     "shell.execute_reply": "2023-05-03T00:39:44.279563Z"
    },
    "papermill": {
     "duration": 0.019528,
     "end_time": "2023-05-03T00:39:44.282445",
     "exception": false,
     "start_time": "2023-05-03T00:39:44.262917",
     "status": "completed"
    },
    "tags": []
   },
   "outputs": [],
   "source": [
    "class TrainValDataset(Dataset):\\\n",
    "#     1 = Val, 2 = Full, 0 (or anything other than 1,2) = Train\n",
    "    def __init__(self, trainX, trainY, transform=None, train=0, split_ratio=.8):\n",
    "        self.transform = transform\n",
    "        np.random.seed(0)\n",
    "        indices = np.random.permutation(trainX.shape[0])\n",
    "        if train == 2:\n",
    "            self.data = trainX\n",
    "            self.target = trainY\n",
    "        elif train == 1:\n",
    "            self.data = trainX[indices][int(split_ratio * trainX.shape[0]):]\n",
    "            self.target = trainY[indices][int(split_ratio * trainX.shape[0]):]\n",
    "        else:\n",
    "            self.data = trainX[indices][:int(split_ratio * trainX.shape[0])]\n",
    "            self.target = trainY[indices][:int(split_ratio * trainX.shape[0])]\n",
    "            \n",
    "    def __len__(self):\n",
    "        return self.data.shape[0]\n",
    "    \n",
    "    def __getitem__(self, idx):\n",
    "        x = self.data[idx]\n",
    "        y = self.target[idx].reshape(15,2)\n",
    "        if self.transform:\n",
    "            transformed = self.transform(image=x, keypoints=y)\n",
    "            x, y = transformed['image'], transformed['keypoints']\n",
    "        return torch.tensor(x[None,:,:]).float(), torch.tensor(y).reshape(30,).float() / 95.0"
   ]
  },
  {
   "cell_type": "code",
   "execution_count": 13,
   "id": "9f5a903e",
   "metadata": {
    "execution": {
     "iopub.execute_input": "2023-05-03T00:39:44.297201Z",
     "iopub.status.busy": "2023-05-03T00:39:44.295786Z",
     "iopub.status.idle": "2023-05-03T00:39:44.302051Z",
     "shell.execute_reply": "2023-05-03T00:39:44.301234Z"
    },
    "papermill": {
     "duration": 0.015539,
     "end_time": "2023-05-03T00:39:44.304209",
     "exception": false,
     "start_time": "2023-05-03T00:39:44.288670",
     "status": "completed"
    },
    "tags": []
   },
   "outputs": [],
   "source": [
    "transform = A.Compose([\n",
    "    A.GaussNoise(),\n",
    "    A.PixelDropout(),\n",
    "    A.RandomBrightnessContrast(),\n",
    "    A.CropAndPad(percent=[-.2,0]),\n",
    "    A.Affine(scale=[.9,1.1], translate_percent=[-.1,.1], rotate=[-45, 45], shear=[-30, 30])\n",
    "], keypoint_params=A.KeypointParams(format='xy', remove_invisible=False))"
   ]
  },
  {
   "cell_type": "code",
   "execution_count": 14,
   "id": "dda0b5e2",
   "metadata": {
    "execution": {
     "iopub.execute_input": "2023-05-03T00:39:44.317839Z",
     "iopub.status.busy": "2023-05-03T00:39:44.317012Z",
     "iopub.status.idle": "2023-05-03T00:39:44.367663Z",
     "shell.execute_reply": "2023-05-03T00:39:44.366667Z"
    },
    "papermill": {
     "duration": 0.060112,
     "end_time": "2023-05-03T00:39:44.370179",
     "exception": false,
     "start_time": "2023-05-03T00:39:44.310067",
     "status": "completed"
    },
    "tags": []
   },
   "outputs": [],
   "source": [
    "train_data = TrainValDataset(trainX, trainY, transform)\n",
    "val_data = TrainValDataset(trainX, trainY, train=1)\n",
    "test_data = TrainValDataset(trainX, trainY, transform, train=2)\n",
    "\n",
    "train_loader = DataLoader(train_data, batch_size=64, shuffle=True)\n",
    "val_loader = DataLoader(val_data, batch_size=64, shuffle=False)\n",
    "\n",
    "loader = DataLoader(test_data, batch_size=64, shuffle=True)"
   ]
  },
  {
   "cell_type": "code",
   "execution_count": 15,
   "id": "c41bf821",
   "metadata": {
    "execution": {
     "iopub.execute_input": "2023-05-03T00:39:44.384593Z",
     "iopub.status.busy": "2023-05-03T00:39:44.384283Z",
     "iopub.status.idle": "2023-05-03T00:40:10.023389Z",
     "shell.execute_reply": "2023-05-03T00:40:10.022463Z"
    },
    "papermill": {
     "duration": 25.649005,
     "end_time": "2023-05-03T00:40:10.025839",
     "exception": false,
     "start_time": "2023-05-03T00:39:44.376834",
     "status": "completed"
    },
    "tags": []
   },
   "outputs": [
    {
     "name": "stderr",
     "output_type": "stream",
     "text": [
      "/opt/conda/lib/python3.7/site-packages/torchvision/models/_utils.py:209: UserWarning: The parameter 'pretrained' is deprecated since 0.13 and will be removed in 0.15, please use 'weights' instead.\n",
      "  f\"The parameter '{pretrained_param}' is deprecated since 0.13 and will be removed in 0.15, \"\n",
      "/opt/conda/lib/python3.7/site-packages/torchvision/models/_utils.py:223: UserWarning: Arguments other than a weight enum or `None` for 'weights' are deprecated since 0.13 and will be removed in 0.15. The current behavior is equivalent to passing `weights=ResNet18_Weights.IMAGENET1K_V1`. You can also use `weights=ResNet18_Weights.DEFAULT` to get the most up-to-date weights.\n",
      "  warnings.warn(msg)\n",
      "Downloading: \"https://download.pytorch.org/models/resnet18-f37072fd.pth\" to /root/.cache/torch/hub/checkpoints/resnet18-f37072fd.pth\n"
     ]
    },
    {
     "data": {
      "application/vnd.jupyter.widget-view+json": {
       "model_id": "f17f0a7194ef450584a4c1d2ea2e7f6c",
       "version_major": 2,
       "version_minor": 0
      },
      "text/plain": [
       "  0%|          | 0.00/44.7M [00:00<?, ?B/s]"
      ]
     },
     "metadata": {},
     "output_type": "display_data"
    },
    {
     "data": {
      "application/vnd.jupyter.widget-view+json": {
       "model_id": "ef85c42b49a94fb48e91d98ef0dbf78b",
       "version_major": 2,
       "version_minor": 0
      },
      "text/plain": [
       "  0%|          | 0/100 [00:00<?, ?it/s]"
      ]
     },
     "metadata": {},
     "output_type": "display_data"
    },
    {
     "name": "stdout",
     "output_type": "stream",
     "text": [
      "Learning rate search finished. See the graph with {finder_name}.plot()\n",
      "LR suggestion: steepest gradient\n",
      "Suggested LR: 1.15E-02\n"
     ]
    },
    {
     "data": {
      "image/png": "[encoded data removed]",
      "text/plain": [
       "<Figure size 640x480 with 1 Axes>"
      ]
     },
     "metadata": {},
     "output_type": "display_data"
    }
   ],
   "source": [
    "model = getModel()\n",
    "optimizer = optim.SGD(model.parameters(), lr=1e-6, momentum=.9)\n",
    "lr_finder = LRFinder(model, optimizer, criterion, device='cuda')\n",
    "lr_finder.range_test(train_loader, end_lr=1, num_iter=100)\n",
    "lr_finder.plot()\n",
    "lr_finder.reset()"
   ]
  },
  {
   "cell_type": "code",
   "execution_count": 16,
   "id": "ae3967cf",
   "metadata": {
    "execution": {
     "iopub.execute_input": "2023-05-03T00:40:10.041862Z",
     "iopub.status.busy": "2023-05-03T00:40:10.041550Z",
     "iopub.status.idle": "2023-05-03T00:41:24.119067Z",
     "shell.execute_reply": "2023-05-03T00:41:24.118068Z"
    },
    "papermill": {
     "duration": 74.087962,
     "end_time": "2023-05-03T00:41:24.121311",
     "exception": false,
     "start_time": "2023-05-03T00:40:10.033349",
     "status": "completed"
    },
    "tags": []
   },
   "outputs": [
    {
     "data": {
      "application/vnd.jupyter.widget-view+json": {
       "model_id": "61578309287f4876b4b754c02c6e6b01",
       "version_major": 2,
       "version_minor": 0
      },
      "text/plain": [
       "  0%|          | 0/89 [00:00<?, ?it/s]"
      ]
     },
     "metadata": {},
     "output_type": "display_data"
    },
    {
     "name": "stdout",
     "output_type": "stream",
     "text": [
      "Epoch: 1 Train Loss: 11.716503 Val Loss: 4.556534\n"
     ]
    },
    {
     "data": {
      "application/vnd.jupyter.widget-view+json": {
       "model_id": "a361b16465094760bb6c2a13c9c7bd1d",
       "version_major": 2,
       "version_minor": 0
      },
      "text/plain": [
       "  0%|          | 0/89 [00:00<?, ?it/s]"
      ]
     },
     "metadata": {},
     "output_type": "display_data"
    },
    {
     "name": "stdout",
     "output_type": "stream",
     "text": [
      "Epoch: 2 Train Loss: 6.334746 Val Loss: 3.505411\n"
     ]
    },
    {
     "data": {
      "application/vnd.jupyter.widget-view+json": {
       "model_id": "5cd6768c47f8487dbe45544935de83ac",
       "version_major": 2,
       "version_minor": 0
      },
      "text/plain": [
       "  0%|          | 0/89 [00:00<?, ?it/s]"
      ]
     },
     "metadata": {},
     "output_type": "display_data"
    },
    {
     "name": "stdout",
     "output_type": "stream",
     "text": [
      "Epoch: 3 Train Loss: 5.219077 Val Loss: 3.174176\n"
     ]
    },
    {
     "data": {
      "application/vnd.jupyter.widget-view+json": {
       "model_id": "61791b56a91d42c8a0c8ac737b7e292b",
       "version_major": 2,
       "version_minor": 0
      },
      "text/plain": [
       "  0%|          | 0/89 [00:00<?, ?it/s]"
      ]
     },
     "metadata": {},
     "output_type": "display_data"
    },
    {
     "name": "stdout",
     "output_type": "stream",
     "text": [
      "Epoch: 4 Train Loss: 4.635708 Val Loss: 2.795754\n"
     ]
    },
    {
     "data": {
      "application/vnd.jupyter.widget-view+json": {
       "model_id": "ce5c65569b1745d4a2444f393ff2861e",
       "version_major": 2,
       "version_minor": 0
      },
      "text/plain": [
       "  0%|          | 0/89 [00:00<?, ?it/s]"
      ]
     },
     "metadata": {},
     "output_type": "display_data"
    },
    {
     "name": "stdout",
     "output_type": "stream",
     "text": [
      "Epoch: 5 Train Loss: 4.564211 Val Loss: 2.829526\n"
     ]
    },
    {
     "data": {
      "image/png": "[encoded data removed]",
      "text/plain": [
       "<Figure size 640x480 with 1 Axes>"
      ]
     },
     "metadata": {},
     "output_type": "display_data"
    }
   ],
   "source": [
    "# Validate method to see how good it will be\n",
    "model = getModel()\n",
    "best_model = [copy.deepcopy(model), -1, 100, 100] # (model, epoch, train loss, val loss)\n",
    "optimizer = optim.AdamW(model.parameters(), lr=3e-4, weight_decay=1e-4)\n",
    "train_loss_history = []\n",
    "val_loss_history = []\n",
    "for epoch in range(5):\n",
    "    train_loss = 0\n",
    "    val_loss = 0\n",
    "    model.train()\n",
    "    progress = tqdm(train_loader)\n",
    "    for data, target in progress:\n",
    "        data, target = data.to(device, dtype=torch.float), target.to(device, dtype=torch.float)\n",
    "        optimizer.zero_grad()\n",
    "        output = model(data)\n",
    "        loss = criterion(output, target)\n",
    "        loss.backward()\n",
    "        optimizer.step()\n",
    "        train_loss += loss.item()\n",
    "        progress.set_postfix({'Loss': loss.item()})\n",
    "\n",
    "    model.eval()\n",
    "    with torch.no_grad():\n",
    "        for data, target in val_loader:\n",
    "            data, target = data.to(device, dtype=torch.float), target.to(device, dtype=torch.float)\n",
    "            output = model(data)\n",
    "            loss = criterion(output, target)\n",
    "            val_loss += loss.item()\n",
    "\n",
    "    train_loss /= len(train_loader)\n",
    "    val_loss /= len(val_loader)\n",
    "    train_loss = 95 * (train_loss **.5)\n",
    "    val_loss = 95 * (val_loss **.5)\n",
    "    \n",
    "    if val_loss < best_model[3]:\n",
    "        best_model = [copy.deepcopy(model), epoch + 1, train_loss, val_loss]\n",
    "\n",
    "    print('Epoch: {} Train Loss: {:.6f} Val Loss: {:.6f}'.format(\n",
    "        epoch+1, train_loss, val_loss))\n",
    "    \n",
    "    train_loss_history.append(train_loss)\n",
    "    val_loss_history.append(val_loss)\n",
    "    \n",
    "plt.plot(train_loss_history, label='Training Loss')\n",
    "plt.plot(val_loss_history, label='Validation Loss')\n",
    "plt.xlabel('Epoch')\n",
    "plt.ylabel('Loss (RMSE)')\n",
    "plt.legend()\n",
    "plt.show()"
   ]
  },
  {
   "cell_type": "code",
   "execution_count": 17,
   "id": "41b00df4",
   "metadata": {
    "execution": {
     "iopub.execute_input": "2023-05-03T00:41:24.139747Z",
     "iopub.status.busy": "2023-05-03T00:41:24.139424Z",
     "iopub.status.idle": "2023-05-03T00:41:24.146066Z",
     "shell.execute_reply": "2023-05-03T00:41:24.145027Z"
    },
    "papermill": {
     "duration": 0.018906,
     "end_time": "2023-05-03T00:41:24.148948",
     "exception": false,
     "start_time": "2023-05-03T00:41:24.130042",
     "status": "completed"
    },
    "tags": []
   },
   "outputs": [
    {
     "data": {
      "text/plain": [
       "[4, 4.635708346709792, 2.795753784164373]"
      ]
     },
     "execution_count": 17,
     "metadata": {},
     "output_type": "execute_result"
    }
   ],
   "source": [
    "best_model[1:]"
   ]
  },
  {
   "cell_type": "code",
   "execution_count": 18,
   "id": "ab907911",
   "metadata": {
    "execution": {
     "iopub.execute_input": "2023-05-03T00:41:24.168127Z",
     "iopub.status.busy": "2023-05-03T00:41:24.166622Z",
     "iopub.status.idle": "2023-05-03T00:41:24.172074Z",
     "shell.execute_reply": "2023-05-03T00:41:24.171167Z"
    },
    "papermill": {
     "duration": 0.016791,
     "end_time": "2023-05-03T00:41:24.174279",
     "exception": false,
     "start_time": "2023-05-03T00:41:24.157488",
     "status": "completed"
    },
    "tags": []
   },
   "outputs": [],
   "source": [
    "m = best_model[0].eval()"
   ]
  },
  {
   "cell_type": "code",
   "execution_count": 19,
   "id": "dd7b6b16",
   "metadata": {
    "execution": {
     "iopub.execute_input": "2023-05-03T00:41:24.192427Z",
     "iopub.status.busy": "2023-05-03T00:41:24.191619Z",
     "iopub.status.idle": "2023-05-03T00:41:24.196838Z",
     "shell.execute_reply": "2023-05-03T00:41:24.196031Z"
    },
    "papermill": {
     "duration": 0.016284,
     "end_time": "2023-05-03T00:41:24.198833",
     "exception": false,
     "start_time": "2023-05-03T00:41:24.182549",
     "status": "completed"
    },
    "tags": []
   },
   "outputs": [],
   "source": [
    "t_data = TrainValDataset(trainX, trainY, train=2)"
   ]
  },
  {
   "cell_type": "code",
   "execution_count": 20,
   "id": "6daa0054",
   "metadata": {
    "execution": {
     "iopub.execute_input": "2023-05-03T00:41:24.217745Z",
     "iopub.status.busy": "2023-05-03T00:41:24.216833Z",
     "iopub.status.idle": "2023-05-03T00:41:24.611187Z",
     "shell.execute_reply": "2023-05-03T00:41:24.610069Z"
    },
    "papermill": {
     "duration": 0.406155,
     "end_time": "2023-05-03T00:41:24.613554",
     "exception": false,
     "start_time": "2023-05-03T00:41:24.207399",
     "status": "completed"
    },
    "tags": []
   },
   "outputs": [
    {
     "name": "stderr",
     "output_type": "stream",
     "text": [
      "/opt/conda/lib/python3.7/site-packages/ipykernel_launcher.py:2: UserWarning: To copy construct from a tensor, it is recommended to use sourceTensor.clone().detach() or sourceTensor.clone().detach().requires_grad_(True), rather than torch.tensor(sourceTensor).\n",
      "  \n"
     ]
    },
    {
     "data": {
      "image/png": "[encoded data removed]",
      "text/plain": [
       "<Figure size 640x480 with 1 Axes>"
      ]
     },
     "metadata": {},
     "output_type": "display_data"
    },
    {
     "data": {
      "image/png": "[encoded data removed]",
      "text/plain": [
       "<Figure size 640x480 with 1 Axes>"
      ]
     },
     "metadata": {},
     "output_type": "display_data"
    }
   ],
   "source": [
    "x, y = t_data.__getitem__(3)\n",
    "yPred = m(torch.tensor(x[None,:,:]).float().to(device)).cpu().detach()[0]\n",
    "plotImg(x,y)\n",
    "plt.show()\n",
    "plotImg(x,yPred)\n",
    "plt.show()"
   ]
  },
  {
   "cell_type": "code",
   "execution_count": 21,
   "id": "7a447c75",
   "metadata": {
    "execution": {
     "iopub.execute_input": "2023-05-03T00:41:24.634419Z",
     "iopub.status.busy": "2023-05-03T00:41:24.634033Z",
     "iopub.status.idle": "2023-05-03T00:41:24.989369Z",
     "shell.execute_reply": "2023-05-03T00:41:24.988336Z"
    },
    "papermill": {
     "duration": 0.368649,
     "end_time": "2023-05-03T00:41:24.992014",
     "exception": false,
     "start_time": "2023-05-03T00:41:24.623365",
     "status": "completed"
    },
    "tags": []
   },
   "outputs": [],
   "source": [
    "testX = testData['Image'].apply(lambda x: np.fromstring(x, dtype=np.uint8, sep=' '))\n",
    "testX = np.stack(testX.to_numpy()).reshape(testData['Image'].shape[0], 96, 96)"
   ]
  },
  {
   "cell_type": "code",
   "execution_count": 22,
   "id": "0fc9cd6c",
   "metadata": {
    "execution": {
     "iopub.execute_input": "2023-05-03T00:41:25.013021Z",
     "iopub.status.busy": "2023-05-03T00:41:25.012097Z",
     "iopub.status.idle": "2023-05-03T00:41:31.570220Z",
     "shell.execute_reply": "2023-05-03T00:41:31.569179Z"
    },
    "papermill": {
     "duration": 6.57119,
     "end_time": "2023-05-03T00:41:31.573017",
     "exception": false,
     "start_time": "2023-05-03T00:41:25.001827",
     "status": "completed"
    },
    "tags": []
   },
   "outputs": [],
   "source": [
    "model = best_model[0].eval()\n",
    "testX = torch.from_numpy(testX[:,np.newaxis,np.newaxis,:,:]).float().to(device, dtype=torch.float)\n",
    "testPred = []\n",
    "for i in range(len(testX)):\n",
    "    testPred.append(np.squeeze(model(testX[i]).cpu().detach().numpy()) * 95)"
   ]
  },
  {
   "cell_type": "markdown",
   "id": "d72684d2",
   "metadata": {
    "papermill": {
     "duration": 0.009477,
     "end_time": "2023-05-03T00:41:31.592412",
     "exception": false,
     "start_time": "2023-05-03T00:41:31.582935",
     "status": "completed"
    },
    "tags": []
   },
   "source": [
    "Create submission"
   ]
  },
  {
   "cell_type": "code",
   "execution_count": 23,
   "id": "e4004d54",
   "metadata": {
    "collapsed": true,
    "execution": {
     "iopub.execute_input": "2023-05-03T00:41:31.612603Z",
     "iopub.status.busy": "2023-05-03T00:41:31.612247Z",
     "iopub.status.idle": "2023-05-03T00:41:31.922386Z",
     "shell.execute_reply": "2023-05-03T00:41:31.921196Z"
    },
    "jupyter": {
     "outputs_hidden": true
    },
    "papermill": {
     "duration": 0.32278,
     "end_time": "2023-05-03T00:41:31.924510",
     "exception": false,
     "start_time": "2023-05-03T00:41:31.601730",
     "status": "completed"
    },
    "tags": []
   },
   "outputs": [
    {
     "data": {
      "text/plain": [
       "{'left_eye_center_x': 0,\n",
       " 'left_eye_center_y': 1,\n",
       " 'right_eye_center_x': 2,\n",
       " 'right_eye_center_y': 3,\n",
       " 'left_eye_inner_corner_x': 4,\n",
       " 'left_eye_inner_corner_y': 5,\n",
       " 'left_eye_outer_corner_x': 6,\n",
       " 'left_eye_outer_corner_y': 7,\n",
       " 'right_eye_inner_corner_x': 8,\n",
       " 'right_eye_inner_corner_y': 9,\n",
       " 'right_eye_outer_corner_x': 10,\n",
       " 'right_eye_outer_corner_y': 11,\n",
       " 'left_eyebrow_inner_end_x': 12,\n",
       " 'left_eyebrow_inner_end_y': 13,\n",
       " 'left_eyebrow_outer_end_x': 14,\n",
       " 'left_eyebrow_outer_end_y': 15,\n",
       " 'right_eyebrow_inner_end_x': 16,\n",
       " 'right_eyebrow_inner_end_y': 17,\n",
       " 'right_eyebrow_outer_end_x': 18,\n",
       " 'right_eyebrow_outer_end_y': 19,\n",
       " 'nose_tip_x': 20,\n",
       " 'nose_tip_y': 21,\n",
       " 'mouth_left_corner_x': 22,\n",
       " 'mouth_left_corner_y': 23,\n",
       " 'mouth_right_corner_x': 24,\n",
       " 'mouth_right_corner_y': 25,\n",
       " 'mouth_center_top_lip_x': 26,\n",
       " 'mouth_center_top_lip_y': 27,\n",
       " 'mouth_center_bottom_lip_x': 28,\n",
       " 'mouth_center_bottom_lip_y': 29}"
      ]
     },
     "execution_count": 23,
     "metadata": {},
     "output_type": "execute_result"
    }
   ],
   "source": [
    "featureNameIndicesMap = {}\n",
    "for i, feature in enumerate(trainData.T.index[:-1]):\n",
    "    featureNameIndicesMap[feature] = i\n",
    "featureNameIndicesMap"
   ]
  },
  {
   "cell_type": "code",
   "execution_count": 24,
   "id": "2ce4ff17",
   "metadata": {
    "execution": {
     "iopub.execute_input": "2023-05-03T00:41:31.947059Z",
     "iopub.status.busy": "2023-05-03T00:41:31.945353Z",
     "iopub.status.idle": "2023-05-03T00:41:39.492273Z",
     "shell.execute_reply": "2023-05-03T00:41:39.491153Z"
    },
    "papermill": {
     "duration": 7.560039,
     "end_time": "2023-05-03T00:41:39.494544",
     "exception": false,
     "start_time": "2023-05-03T00:41:31.934505",
     "status": "completed"
    },
    "tags": []
   },
   "outputs": [
    {
     "name": "stderr",
     "output_type": "stream",
     "text": [
      "/opt/conda/lib/python3.7/site-packages/ipykernel_launcher.py:2: SettingWithCopyWarning: \n",
      "A value is trying to be set on a copy of a slice from a DataFrame\n",
      "\n",
      "See the caveats in the documentation: https://pandas.pydata.org/pandas-docs/stable/user_guide/indexing.html#returning-a-view-versus-a-copy\n",
      "  \n"
     ]
    },
    {
     "data": {
      "text/html": [
       "<div>\n",
       "<style scoped>\n",
       "    .dataframe tbody tr th:only-of-type {\n",
       "        vertical-align: middle;\n",
       "    }\n",
       "\n",
       "    .dataframe tbody tr th {\n",
       "        vertical-align: top;\n",
       "    }\n",
       "\n",
       "    .dataframe thead th {\n",
       "        text-align: right;\n",
       "    }\n",
       "</style>\n",
       "<table border=\"1\" class=\"dataframe\">\n",
       "  <thead>\n",
       "    <tr style=\"text-align: right;\">\n",
       "      <th></th>\n",
       "      <th>RowId</th>\n",
       "      <th>ImageId</th>\n",
       "      <th>FeatureName</th>\n",
       "      <th>Location</th>\n",
       "    </tr>\n",
       "  </thead>\n",
       "  <tbody>\n",
       "    <tr>\n",
       "      <th>0</th>\n",
       "      <td>1</td>\n",
       "      <td>1</td>\n",
       "      <td>left_eye_center_x</td>\n",
       "      <td>66.365562</td>\n",
       "    </tr>\n",
       "    <tr>\n",
       "      <th>1</th>\n",
       "      <td>2</td>\n",
       "      <td>1</td>\n",
       "      <td>left_eye_center_y</td>\n",
       "      <td>37.198826</td>\n",
       "    </tr>\n",
       "    <tr>\n",
       "      <th>2</th>\n",
       "      <td>3</td>\n",
       "      <td>1</td>\n",
       "      <td>right_eye_center_x</td>\n",
       "      <td>28.802938</td>\n",
       "    </tr>\n",
       "    <tr>\n",
       "      <th>30</th>\n",
       "      <td>31</td>\n",
       "      <td>2</td>\n",
       "      <td>left_eye_center_x</td>\n",
       "      <td>64.772804</td>\n",
       "    </tr>\n",
       "    <tr>\n",
       "      <th>31</th>\n",
       "      <td>32</td>\n",
       "      <td>2</td>\n",
       "      <td>left_eye_center_y</td>\n",
       "      <td>36.935333</td>\n",
       "    </tr>\n",
       "    <tr>\n",
       "      <th>32</th>\n",
       "      <td>33</td>\n",
       "      <td>2</td>\n",
       "      <td>right_eye_center_x</td>\n",
       "      <td>28.853893</td>\n",
       "    </tr>\n",
       "  </tbody>\n",
       "</table>\n",
       "</div>"
      ],
      "text/plain": [
       "    RowId  ImageId         FeatureName   Location\n",
       "0       1        1   left_eye_center_x  66.365562\n",
       "1       2        1   left_eye_center_y  37.198826\n",
       "2       3        1  right_eye_center_x  28.802938\n",
       "30     31        2   left_eye_center_x  64.772804\n",
       "31     32        2   left_eye_center_y  36.935333\n",
       "32     33        2  right_eye_center_x  28.853893"
      ]
     },
     "execution_count": 24,
     "metadata": {},
     "output_type": "execute_result"
    }
   ],
   "source": [
    "for i in range(len(idLookupData)):\n",
    "    idLookupData['Location'][i] = testPred[idLookupData['ImageId'][i] - 1][featureNameIndicesMap[idLookupData['FeatureName'][i]]]\n",
    "idLookupData.iloc[[0,1,2,30,31,32],:]"
   ]
  },
  {
   "cell_type": "code",
   "execution_count": 25,
   "id": "2947267c",
   "metadata": {
    "execution": {
     "iopub.execute_input": "2023-05-03T00:41:39.518292Z",
     "iopub.status.busy": "2023-05-03T00:41:39.516659Z",
     "iopub.status.idle": "2023-05-03T00:41:39.574538Z",
     "shell.execute_reply": "2023-05-03T00:41:39.573500Z"
    },
    "papermill": {
     "duration": 0.07156,
     "end_time": "2023-05-03T00:41:39.576861",
     "exception": false,
     "start_time": "2023-05-03T00:41:39.505301",
     "status": "completed"
    },
    "tags": []
   },
   "outputs": [],
   "source": [
    "submission = idLookupData[['RowId', 'Location']]\n",
    "submission.to_csv('submission.csv', index=False)"
   ]
  },
  {
   "cell_type": "code",
   "execution_count": null,
   "id": "7b18ec85",
   "metadata": {
    "papermill": {
     "duration": 0.009521,
     "end_time": "2023-05-03T00:41:39.596759",
     "exception": false,
     "start_time": "2023-05-03T00:41:39.587238",
     "status": "completed"
    },
    "tags": []
   },
   "outputs": [],
   "source": []
  }
 ],
 "metadata": {
  "kernelspec": {
   "display_name": "Python 3",
   "language": "python",
   "name": "python3"
  },
  "language_info": {
   "codemirror_mode": {
    "name": "ipython",
    "version": 3
   },
   "file_extension": ".py",
   "mimetype": "text/x-python",
   "name": "python",
   "nbconvert_exporter": "python",
   "pygments_lexer": "ipython3",
   "version": "3.7.12"
  },
  "papermill": {
   "default_parameters": {},
   "duration": 148.075397,
   "end_time": "2023-05-03T00:41:41.332974",
   "environment_variables": {},
   "exception": null,
   "input_path": "__notebook__.ipynb",
   "output_path": "__notebook__.ipynb",
   "parameters": {},
   "start_time": "2023-05-03T00:39:13.257577",
   "version": "2.3.4"
  },
  "widgets": {
   "application/vnd.jupyter.widget-state+json": {
    "state": {
     "03d42355839e4d0ea18c78afe4295cdc": {
      "model_module": "@jupyter-widgets/controls",
      "model_module_version": "1.5.0",
      "model_name": "DescriptionStyleModel",
      "state": {
       "_model_module": "@jupyter-widgets/controls",
       "_model_module_version": "1.5.0",
       "_model_name": "DescriptionStyleModel",
       "_view_count": null,
       "_view_module": "@jupyter-widgets/base",
       "_view_module_version": "1.2.0",
       "_view_name": "StyleView",
       "description_width": ""
      }
     },
     "06589cdb73d84f00af056565175b9d13": {
      "model_module": "@jupyter-widgets/controls",
      "model_module_version": "1.5.0",
      "model_name": "DescriptionStyleModel",
      "state": {
       "_model_module": "@jupyter-widgets/controls",
       "_model_module_version": "1.5.0",
       "_model_name": "DescriptionStyleModel",
       "_view_count": null,
       "_view_module": "@jupyter-widgets/base",
       "_view_module_version": "1.2.0",
       "_view_name": "StyleView",
       "description_width": ""
      }
     },
     "07c5698109374a4fb8e2ea96a46b3f74": {
      "model_module": "@jupyter-widgets/controls",
      "model_module_version": "1.5.0",
      "model_name": "ProgressStyleModel",
      "state": {
       "_model_module": "@jupyter-widgets/controls",
       "_model_module_version": "1.5.0",
       "_model_name": "ProgressStyleModel",
       "_view_count": null,
       "_view_module": "@jupyter-widgets/base",
       "_view_module_version": "1.2.0",
       "_view_name": "StyleView",
       "bar_color": null,
       "description_width": ""
      }
     },
     "0f79190f3dbd4810af5ee5740ab000e9": {
      "model_module": "@jupyter-widgets/base",
      "model_module_version": "1.2.0",
      "model_name": "LayoutModel",
      "state": {
       "_model_module": "@jupyter-widgets/base",
       "_model_module_version": "1.2.0",
       "_model_name": "LayoutModel",
       "_view_count": null,
       "_view_module": "@jupyter-widgets/base",
       "_view_module_version": "1.2.0",
       "_view_name": "LayoutView",
       "align_content": null,
       "align_items": null,
       "align_self": null,
       "border": null,
       "bottom": null,
       "display": null,
       "flex": null,
       "flex_flow": null,
       "grid_area": null,
       "grid_auto_columns": null,
       "grid_auto_flow": null,
       "grid_auto_rows": null,
       "grid_column": null,
       "grid_gap": null,
       "grid_row": null,
       "grid_template_areas": null,
       "grid_template_columns": null,
       "grid_template_rows": null,
       "height": null,
       "justify_content": null,
       "justify_items": null,
       "left": null,
       "margin": null,
       "max_height": null,
       "max_width": null,
       "min_height": null,
       "min_width": null,
       "object_fit": null,
       "object_position": null,
       "order": null,
       "overflow": null,
       "overflow_x": null,
       "overflow_y": null,
       "padding": null,
       "right": null,
       "top": null,
       "visibility": null,
       "width": null
      }
     },
     "1435c934640346aeb651f1fc29d108cc": {
      "model_module": "@jupyter-widgets/controls",
      "model_module_version": "1.5.0",
      "model_name": "HTMLModel",
      "state": {
       "_dom_classes": [],
       "_model_module": "@jupyter-widgets/controls",
       "_model_module_version": "1.5.0",
       "_model_name": "HTMLModel",
       "_view_count": null,
       "_view_module": "@jupyter-widgets/controls",
       "_view_module_version": "1.5.0",
       "_view_name": "HTMLView",
       "description": "",
       "description_tooltip": null,
       "layout": "IPY_MODEL_2b4c88ab02f5411fbcc40fff043f6cad",
       "placeholder": "​",
       "style": "IPY_MODEL_03d42355839e4d0ea18c78afe4295cdc",
       "value": " 44.7M/44.7M [00:00&lt;00:00, 151MB/s]"
      }
     },
     "163ae0e4f3b64d7e9a6f4c3bf44d0bde": {
      "model_module": "@jupyter-widgets/base",
      "model_module_version": "1.2.0",
      "model_name": "LayoutModel",
      "state": {
       "_model_module": "@jupyter-widgets/base",
       "_model_module_version": "1.2.0",
       "_model_name": "LayoutModel",
       "_view_count": null,
       "_view_module": "@jupyter-widgets/base",
       "_view_module_version": "1.2.0",
       "_view_name": "LayoutView",
       "align_content": null,
       "align_items": null,
       "align_self": null,
       "border": null,
       "bottom": null,
       "display": null,
       "flex": null,
       "flex_flow": null,
       "grid_area": null,
       "grid_auto_columns": null,
       "grid_auto_flow": null,
       "grid_auto_rows": null,
       "grid_column": null,
       "grid_gap": null,
       "grid_row": null,
       "grid_template_areas": null,
       "grid_template_columns": null,
       "grid_template_rows": null,
       "height": null,
       "justify_content": null,
       "justify_items": null,
       "left": null,
       "margin": null,
       "max_height": null,
       "max_width": null,
       "min_height": null,
       "min_width": null,
       "object_fit": null,
       "object_position": null,
       "order": null,
       "overflow": null,
       "overflow_x": null,
       "overflow_y": null,
       "padding": null,
       "right": null,
       "top": null,
       "visibility": null,
       "width": null
      }
     },
     "163fa1689ad6454684bd0d834e60be91": {
      "model_module": "@jupyter-widgets/controls",
      "model_module_version": "1.5.0",
      "model_name": "DescriptionStyleModel",
      "state": {
       "_model_module": "@jupyter-widgets/controls",
       "_model_module_version": "1.5.0",
       "_model_name": "DescriptionStyleModel",
       "_view_count": null,
       "_view_module": "@jupyter-widgets/base",
       "_view_module_version": "1.2.0",
       "_view_name": "StyleView",
       "description_width": ""
      }
     },
     "1b24dda8349c44c3855bbb9ba685f665": {
      "model_module": "@jupyter-widgets/controls",
      "model_module_version": "1.5.0",
      "model_name": "DescriptionStyleModel",
      "state": {
       "_model_module": "@jupyter-widgets/controls",
       "_model_module_version": "1.5.0",
       "_model_name": "DescriptionStyleModel",
       "_view_count": null,
       "_view_module": "@jupyter-widgets/base",
       "_view_module_version": "1.2.0",
       "_view_name": "StyleView",
       "description_width": ""
      }
     },
     "1cebd5874c034b44b7b721fe4fb04a5e": {
      "model_module": "@jupyter-widgets/controls",
      "model_module_version": "1.5.0",
      "model_name": "ProgressStyleModel",
      "state": {
       "_model_module": "@jupyter-widgets/controls",
       "_model_module_version": "1.5.0",
       "_model_name": "ProgressStyleModel",
       "_view_count": null,
       "_view_module": "@jupyter-widgets/base",
       "_view_module_version": "1.2.0",
       "_view_name": "StyleView",
       "bar_color": null,
       "description_width": ""
      }
     },
     "26c3e535e7a6486aae14b572b539140a": {
      "model_module": "@jupyter-widgets/controls",
      "model_module_version": "1.5.0",
      "model_name": "ProgressStyleModel",
      "state": {
       "_model_module": "@jupyter-widgets/controls",
       "_model_module_version": "1.5.0",
       "_model_name": "ProgressStyleModel",
       "_view_count": null,
       "_view_module": "@jupyter-widgets/base",
       "_view_module_version": "1.2.0",
       "_view_name": "StyleView",
       "bar_color": null,
       "description_width": ""
      }
     },
     "284bffa2546244d7bbe415f6ad961d17": {
      "model_module": "@jupyter-widgets/base",
      "model_module_version": "1.2.0",
      "model_name": "LayoutModel",
      "state": {
       "_model_module": "@jupyter-widgets/base",
       "_model_module_version": "1.2.0",
       "_model_name": "LayoutModel",
       "_view_count": null,
       "_view_module": "@jupyter-widgets/base",
       "_view_module_version": "1.2.0",
       "_view_name": "LayoutView",
       "align_content": null,
       "align_items": null,
       "align_self": null,
       "border": null,
       "bottom": null,
       "display": null,
       "flex": null,
       "flex_flow": null,
       "grid_area": null,
       "grid_auto_columns": null,
       "grid_auto_flow": null,
       "grid_auto_rows": null,
       "grid_column": null,
       "grid_gap": null,
       "grid_row": null,
       "grid_template_areas": null,
       "grid_template_columns": null,
       "grid_template_rows": null,
       "height": null,
       "justify_content": null,
       "justify_items": null,
       "left": null,
       "margin": null,
       "max_height": null,
       "max_width": null,
       "min_height": null,
       "min_width": null,
       "object_fit": null,
       "object_position": null,
       "order": null,
       "overflow": null,
       "overflow_x": null,
       "overflow_y": null,
       "padding": null,
       "right": null,
       "top": null,
       "visibility": null,
       "width": null
      }
     },
     "2b4c88ab02f5411fbcc40fff043f6cad": {
      "model_module": "@jupyter-widgets/base",
      "model_module_version": "1.2.0",
      "model_name": "LayoutModel",
      "state": {
       "_model_module": "@jupyter-widgets/base",
       "_model_module_version": "1.2.0",
       "_model_name": "LayoutModel",
       "_view_count": null,
       "_view_module": "@jupyter-widgets/base",
       "_view_module_version": "1.2.0",
       "_view_name": "LayoutView",
       "align_content": null,
       "align_items": null,
       "align_self": null,
       "border": null,
       "bottom": null,
       "display": null,
       "flex": null,
       "flex_flow": null,
       "grid_area": null,
       "grid_auto_columns": null,
       "grid_auto_flow": null,
       "grid_auto_rows": null,
       "grid_column": null,
       "grid_gap": null,
       "grid_row": null,
       "grid_template_areas": null,
       "grid_template_columns": null,
       "grid_template_rows": null,
       "height": null,
       "justify_content": null,
       "justify_items": null,
       "left": null,
       "margin": null,
       "max_height": null,
       "max_width": null,
       "min_height": null,
       "min_width": null,
       "object_fit": null,
       "object_position": null,
       "order": null,
       "overflow": null,
       "overflow_x": null,
       "overflow_y": null,
       "padding": null,
       "right": null,
       "top": null,
       "visibility": null,
       "width": null
      }
     },
     "2bb63061f2b54b6ca51cdb795656b8ef": {
      "model_module": "@jupyter-widgets/controls",
      "model_module_version": "1.5.0",
      "model_name": "FloatProgressModel",
      "state": {
       "_dom_classes": [],
       "_model_module": "@jupyter-widgets/controls",
       "_model_module_version": "1.5.0",
       "_model_name": "FloatProgressModel",
       "_view_count": null,
       "_view_module": "@jupyter-widgets/controls",
       "_view_module_version": "1.5.0",
       "_view_name": "ProgressView",
       "bar_style": "success",
       "description": "",
       "description_tooltip": null,
       "layout": "IPY_MODEL_953a7dd56579451e9033809a328e131b",
       "max": 100.0,
       "min": 0.0,
       "orientation": "horizontal",
       "style": "IPY_MODEL_676f0f98daed47f78ef99a0ebca7d0a7",
       "value": 100.0
      }
     },
     "2c70b9dcb3ee4c4cb9bd48cdac809ec8": {
      "model_module": "@jupyter-widgets/base",
      "model_module_version": "1.2.0",
      "model_name": "LayoutModel",
      "state": {
       "_model_module": "@jupyter-widgets/base",
       "_model_module_version": "1.2.0",
       "_model_name": "LayoutModel",
       "_view_count": null,
       "_view_module": "@jupyter-widgets/base",
       "_view_module_version": "1.2.0",
       "_view_name": "LayoutView",
       "align_content": null,
       "align_items": null,
       "align_self": null,
       "border": null,
       "bottom": null,
       "display": null,
       "flex": null,
       "flex_flow": null,
       "grid_area": null,
       "grid_auto_columns": null,
       "grid_auto_flow": null,
       "grid_auto_rows": null,
       "grid_column": null,
       "grid_gap": null,
       "grid_row": null,
       "grid_template_areas": null,
       "grid_template_columns": null,
       "grid_template_rows": null,
       "height": null,
       "justify_content": null,
       "justify_items": null,
       "left": null,
       "margin": null,
       "max_height": null,
       "max_width": null,
       "min_height": null,
       "min_width": null,
       "object_fit": null,
       "object_position": null,
       "order": null,
       "overflow": null,
       "overflow_x": null,
       "overflow_y": null,
       "padding": null,
       "right": null,
       "top": null,
       "visibility": null,
       "width": null
      }
     },
     "2dfb770afb1f416ba5fc87b982396524": {
      "model_module": "@jupyter-widgets/controls",
      "model_module_version": "1.5.0",
      "model_name": "FloatProgressModel",
      "state": {
       "_dom_classes": [],
       "_model_module": "@jupyter-widgets/controls",
       "_model_module_version": "1.5.0",
       "_model_name": "FloatProgressModel",
       "_view_count": null,
       "_view_module": "@jupyter-widgets/controls",
       "_view_module_version": "1.5.0",
       "_view_name": "ProgressView",
       "bar_style": "success",
       "description": "",
       "description_tooltip": null,
       "layout": "IPY_MODEL_6c9bfa1a3f624f3b8cad256c1f071b8e",
       "max": 89.0,
       "min": 0.0,
       "orientation": "horizontal",
       "style": "IPY_MODEL_07c5698109374a4fb8e2ea96a46b3f74",
       "value": 89.0
      }
     },
     "331ec2b803d443328b978def7872fba0": {
      "model_module": "@jupyter-widgets/controls",
      "model_module_version": "1.5.0",
      "model_name": "FloatProgressModel",
      "state": {
       "_dom_classes": [],
       "_model_module": "@jupyter-widgets/controls",
       "_model_module_version": "1.5.0",
       "_model_name": "FloatProgressModel",
       "_view_count": null,
       "_view_module": "@jupyter-widgets/controls",
       "_view_module_version": "1.5.0",
       "_view_name": "ProgressView",
       "bar_style": "success",
       "description": "",
       "description_tooltip": null,
       "layout": "IPY_MODEL_7a9bc3998f3d4f53a1bcc5e3672b06c1",
       "max": 89.0,
       "min": 0.0,
       "orientation": "horizontal",
       "style": "IPY_MODEL_1cebd5874c034b44b7b721fe4fb04a5e",
       "value": 89.0
      }
     },
     "3561bc0d482a4e62ac46bbab78667795": {
      "model_module": "@jupyter-widgets/controls",
      "model_module_version": "1.5.0",
      "model_name": "HTMLModel",
      "state": {
       "_dom_classes": [],
       "_model_module": "@jupyter-widgets/controls",
       "_model_module_version": "1.5.0",
       "_model_name": "HTMLModel",
       "_view_count": null,
       "_view_module": "@jupyter-widgets/controls",
       "_view_module_version": "1.5.0",
       "_view_name": "HTMLView",
       "description": "",
       "description_tooltip": null,
       "layout": "IPY_MODEL_8b6b0409b2da4405b6c94b94790bde39",
       "placeholder": "​",
       "style": "IPY_MODEL_1b24dda8349c44c3855bbb9ba685f665",
       "value": "100%"
      }
     },
     "3a9784981d8b44beb9470b9925d50bac": {
      "model_module": "@jupyter-widgets/controls",
      "model_module_version": "1.5.0",
      "model_name": "DescriptionStyleModel",
      "state": {
       "_model_module": "@jupyter-widgets/controls",
       "_model_module_version": "1.5.0",
       "_model_name": "DescriptionStyleModel",
       "_view_count": null,
       "_view_module": "@jupyter-widgets/base",
       "_view_module_version": "1.2.0",
       "_view_name": "StyleView",
       "description_width": ""
      }
     },
     "3ab42813da3e4c1c97550cb8f01545d5": {
      "model_module": "@jupyter-widgets/controls",
      "model_module_version": "1.5.0",
      "model_name": "DescriptionStyleModel",
      "state": {
       "_model_module": "@jupyter-widgets/controls",
       "_model_module_version": "1.5.0",
       "_model_name": "DescriptionStyleModel",
       "_view_count": null,
       "_view_module": "@jupyter-widgets/base",
       "_view_module_version": "1.2.0",
       "_view_name": "StyleView",
       "description_width": ""
      }
     },
     "3c89232e27984a5a81a3fe1a53da8110": {
      "model_module": "@jupyter-widgets/controls",
      "model_module_version": "1.5.0",
      "model_name": "DescriptionStyleModel",
      "state": {
       "_model_module": "@jupyter-widgets/controls",
       "_model_module_version": "1.5.0",
       "_model_name": "DescriptionStyleModel",
       "_view_count": null,
       "_view_module": "@jupyter-widgets/base",
       "_view_module_version": "1.2.0",
       "_view_name": "StyleView",
       "description_width": ""
      }
     },
     "3f284bdfc0d7446ebdf3d610b97a77fc": {
      "model_module": "@jupyter-widgets/controls",
      "model_module_version": "1.5.0",
      "model_name": "HTMLModel",
      "state": {
       "_dom_classes": [],
       "_model_module": "@jupyter-widgets/controls",
       "_model_module_version": "1.5.0",
       "_model_name": "HTMLModel",
       "_view_count": null,
       "_view_module": "@jupyter-widgets/controls",
       "_view_module_version": "1.5.0",
       "_view_name": "HTMLView",
       "description": "",
       "description_tooltip": null,
       "layout": "IPY_MODEL_a5a89ee86c7f4cd7bd7dc43ba6bb1f5c",
       "placeholder": "​",
       "style": "IPY_MODEL_7df4e279b4534bfaa01ebe577fb88506",
       "value": "100%"
      }
     },
     "4126cec5c15c44908c4e64f1e70d4a80": {
      "model_module": "@jupyter-widgets/controls",
      "model_module_version": "1.5.0",
      "model_name": "DescriptionStyleModel",
      "state": {
       "_model_module": "@jupyter-widgets/controls",
       "_model_module_version": "1.5.0",
       "_model_name": "DescriptionStyleModel",
       "_view_count": null,
       "_view_module": "@jupyter-widgets/base",
       "_view_module_version": "1.2.0",
       "_view_name": "StyleView",
       "description_width": ""
      }
     },
     "48f2cdaf198448998291617054ea7471": {
      "model_module": "@jupyter-widgets/base",
      "model_module_version": "1.2.0",
      "model_name": "LayoutModel",
      "state": {
       "_model_module": "@jupyter-widgets/base",
       "_model_module_version": "1.2.0",
       "_model_name": "LayoutModel",
       "_view_count": null,
       "_view_module": "@jupyter-widgets/base",
       "_view_module_version": "1.2.0",
       "_view_name": "LayoutView",
       "align_content": null,
       "align_items": null,
       "align_self": null,
       "border": null,
       "bottom": null,
       "display": null,
       "flex": null,
       "flex_flow": null,
       "grid_area": null,
       "grid_auto_columns": null,
       "grid_auto_flow": null,
       "grid_auto_rows": null,
       "grid_column": null,
       "grid_gap": null,
       "grid_row": null,
       "grid_template_areas": null,
       "grid_template_columns": null,
       "grid_template_rows": null,
       "height": null,
       "justify_content": null,
       "justify_items": null,
       "left": null,
       "margin": null,
       "max_height": null,
       "max_width": null,
       "min_height": null,
       "min_width": null,
       "object_fit": null,
       "object_position": null,
       "order": null,
       "overflow": null,
       "overflow_x": null,
       "overflow_y": null,
       "padding": null,
       "right": null,
       "top": null,
       "visibility": null,
       "width": null
      }
     },
     "4972278ec7934590a27ec15147ca7fb9": {
      "model_module": "@jupyter-widgets/controls",
      "model_module_version": "1.5.0",
      "model_name": "ProgressStyleModel",
      "state": {
       "_model_module": "@jupyter-widgets/controls",
       "_model_module_version": "1.5.0",
       "_model_name": "ProgressStyleModel",
       "_view_count": null,
       "_view_module": "@jupyter-widgets/base",
       "_view_module_version": "1.2.0",
       "_view_name": "StyleView",
       "bar_color": null,
       "description_width": ""
      }
     },
     "4c7f0b4f41874a95a536b2f657b52245": {
      "model_module": "@jupyter-widgets/controls",
      "model_module_version": "1.5.0",
      "model_name": "DescriptionStyleModel",
      "state": {
       "_model_module": "@jupyter-widgets/controls",
       "_model_module_version": "1.5.0",
       "_model_name": "DescriptionStyleModel",
       "_view_count": null,
       "_view_module": "@jupyter-widgets/base",
       "_view_module_version": "1.2.0",
       "_view_name": "StyleView",
       "description_width": ""
      }
     },
     "528d25b58d754614be57ba5e1be6bbfd": {
      "model_module": "@jupyter-widgets/controls",
      "model_module_version": "1.5.0",
      "model_name": "DescriptionStyleModel",
      "state": {
       "_model_module": "@jupyter-widgets/controls",
       "_model_module_version": "1.5.0",
       "_model_name": "DescriptionStyleModel",
       "_view_count": null,
       "_view_module": "@jupyter-widgets/base",
       "_view_module_version": "1.2.0",
       "_view_name": "StyleView",
       "description_width": ""
      }
     },
     "58141350412b4839b7d9dbf40998f961": {
      "model_module": "@jupyter-widgets/base",
      "model_module_version": "1.2.0",
      "model_name": "LayoutModel",
      "state": {
       "_model_module": "@jupyter-widgets/base",
       "_model_module_version": "1.2.0",
       "_model_name": "LayoutModel",
       "_view_count": null,
       "_view_module": "@jupyter-widgets/base",
       "_view_module_version": "1.2.0",
       "_view_name": "LayoutView",
       "align_content": null,
       "align_items": null,
       "align_self": null,
       "border": null,
       "bottom": null,
       "display": null,
       "flex": null,
       "flex_flow": null,
       "grid_area": null,
       "grid_auto_columns": null,
       "grid_auto_flow": null,
       "grid_auto_rows": null,
       "grid_column": null,
       "grid_gap": null,
       "grid_row": null,
       "grid_template_areas": null,
       "grid_template_columns": null,
       "grid_template_rows": null,
       "height": null,
       "justify_content": null,
       "justify_items": null,
       "left": null,
       "margin": null,
       "max_height": null,
       "max_width": null,
       "min_height": null,
       "min_width": null,
       "object_fit": null,
       "object_position": null,
       "order": null,
       "overflow": null,
       "overflow_x": null,
       "overflow_y": null,
       "padding": null,
       "right": null,
       "top": null,
       "visibility": null,
       "width": null
      }
     },
     "5a8f048fdcb9409b8b7755ed33f8f1c7": {
      "model_module": "@jupyter-widgets/base",
      "model_module_version": "1.2.0",
      "model_name": "LayoutModel",
      "state": {
       "_model_module": "@jupyter-widgets/base",
       "_model_module_version": "1.2.0",
       "_model_name": "LayoutModel",
       "_view_count": null,
       "_view_module": "@jupyter-widgets/base",
       "_view_module_version": "1.2.0",
       "_view_name": "LayoutView",
       "align_content": null,
       "align_items": null,
       "align_self": null,
       "border": null,
       "bottom": null,
       "display": null,
       "flex": null,
       "flex_flow": null,
       "grid_area": null,
       "grid_auto_columns": null,
       "grid_auto_flow": null,
       "grid_auto_rows": null,
       "grid_column": null,
       "grid_gap": null,
       "grid_row": null,
       "grid_template_areas": null,
       "grid_template_columns": null,
       "grid_template_rows": null,
       "height": null,
       "justify_content": null,
       "justify_items": null,
       "left": null,
       "margin": null,
       "max_height": null,
       "max_width": null,
       "min_height": null,
       "min_width": null,
       "object_fit": null,
       "object_position": null,
       "order": null,
       "overflow": null,
       "overflow_x": null,
       "overflow_y": null,
       "padding": null,
       "right": null,
       "top": null,
       "visibility": null,
       "width": null
      }
     },
     "5b4c326abd1a4fc787a474a25822b6e2": {
      "model_module": "@jupyter-widgets/base",
      "model_module_version": "1.2.0",
      "model_name": "LayoutModel",
      "state": {
       "_model_module": "@jupyter-widgets/base",
       "_model_module_version": "1.2.0",
       "_model_name": "LayoutModel",
       "_view_count": null,
       "_view_module": "@jupyter-widgets/base",
       "_view_module_version": "1.2.0",
       "_view_name": "LayoutView",
       "align_content": null,
       "align_items": null,
       "align_self": null,
       "border": null,
       "bottom": null,
       "display": null,
       "flex": null,
       "flex_flow": null,
       "grid_area": null,
       "grid_auto_columns": null,
       "grid_auto_flow": null,
       "grid_auto_rows": null,
       "grid_column": null,
       "grid_gap": null,
       "grid_row": null,
       "grid_template_areas": null,
       "grid_template_columns": null,
       "grid_template_rows": null,
       "height": null,
       "justify_content": null,
       "justify_items": null,
       "left": null,
       "margin": null,
       "max_height": null,
       "max_width": null,
       "min_height": null,
       "min_width": null,
       "object_fit": null,
       "object_position": null,
       "order": null,
       "overflow": null,
       "overflow_x": null,
       "overflow_y": null,
       "padding": null,
       "right": null,
       "top": null,
       "visibility": null,
       "width": null
      }
     },
     "5cd6768c47f8487dbe45544935de83ac": {
      "model_module": "@jupyter-widgets/controls",
      "model_module_version": "1.5.0",
      "model_name": "HBoxModel",
      "state": {
       "_dom_classes": [],
       "_model_module": "@jupyter-widgets/controls",
       "_model_module_version": "1.5.0",
       "_model_name": "HBoxModel",
       "_view_count": null,
       "_view_module": "@jupyter-widgets/controls",
       "_view_module_version": "1.5.0",
       "_view_name": "HBoxView",
       "box_style": "",
       "children": [
        "IPY_MODEL_67deffde0e94466d9cb801fbd5509ab9",
        "IPY_MODEL_82cf4ca4ab6e43ca9d1162d82f0921da",
        "IPY_MODEL_868f42e13c8249208570777be3e50f30"
       ],
       "layout": "IPY_MODEL_bc3f7507ebcf4bfa9297b57bc966a84e"
      }
     },
     "61578309287f4876b4b754c02c6e6b01": {
      "model_module": "@jupyter-widgets/controls",
      "model_module_version": "1.5.0",
      "model_name": "HBoxModel",
      "state": {
       "_dom_classes": [],
       "_model_module": "@jupyter-widgets/controls",
       "_model_module_version": "1.5.0",
       "_model_name": "HBoxModel",
       "_view_count": null,
       "_view_module": "@jupyter-widgets/controls",
       "_view_module_version": "1.5.0",
       "_view_name": "HBoxView",
       "box_style": "",
       "children": [
        "IPY_MODEL_3561bc0d482a4e62ac46bbab78667795",
        "IPY_MODEL_e497d58f04844ec9bfb45234d8dc8d88",
        "IPY_MODEL_8289f357121b46a1a65ff208f0a8703f"
       ],
       "layout": "IPY_MODEL_b1157a3ee06644838e4a6b592465b941"
      }
     },
     "61791b56a91d42c8a0c8ac737b7e292b": {
      "model_module": "@jupyter-widgets/controls",
      "model_module_version": "1.5.0",
      "model_name": "HBoxModel",
      "state": {
       "_dom_classes": [],
       "_model_module": "@jupyter-widgets/controls",
       "_model_module_version": "1.5.0",
       "_model_name": "HBoxModel",
       "_view_count": null,
       "_view_module": "@jupyter-widgets/controls",
       "_view_module_version": "1.5.0",
       "_view_name": "HBoxView",
       "box_style": "",
       "children": [
        "IPY_MODEL_83b2e5eebfa64805a9fbfda04ecf3ba4",
        "IPY_MODEL_331ec2b803d443328b978def7872fba0",
        "IPY_MODEL_d59b251d498140ae9ffb67ab1f3af44e"
       ],
       "layout": "IPY_MODEL_6664fceadf2c4957b3231f1efd728a99"
      }
     },
     "6664fceadf2c4957b3231f1efd728a99": {
      "model_module": "@jupyter-widgets/base",
      "model_module_version": "1.2.0",
      "model_name": "LayoutModel",
      "state": {
       "_model_module": "@jupyter-widgets/base",
       "_model_module_version": "1.2.0",
       "_model_name": "LayoutModel",
       "_view_count": null,
       "_view_module": "@jupyter-widgets/base",
       "_view_module_version": "1.2.0",
       "_view_name": "LayoutView",
       "align_content": null,
       "align_items": null,
       "align_self": null,
       "border": null,
       "bottom": null,
       "display": null,
       "flex": null,
       "flex_flow": null,
       "grid_area": null,
       "grid_auto_columns": null,
       "grid_auto_flow": null,
       "grid_auto_rows": null,
       "grid_column": null,
       "grid_gap": null,
       "grid_row": null,
       "grid_template_areas": null,
       "grid_template_columns": null,
       "grid_template_rows": null,
       "height": null,
       "justify_content": null,
       "justify_items": null,
       "left": null,
       "margin": null,
       "max_height": null,
       "max_width": null,
       "min_height": null,
       "min_width": null,
       "object_fit": null,
       "object_position": null,
       "order": null,
       "overflow": null,
       "overflow_x": null,
       "overflow_y": null,
       "padding": null,
       "right": null,
       "top": null,
       "visibility": null,
       "width": null
      }
     },
     "676f0f98daed47f78ef99a0ebca7d0a7": {
      "model_module": "@jupyter-widgets/controls",
      "model_module_version": "1.5.0",
      "model_name": "ProgressStyleModel",
      "state": {
       "_model_module": "@jupyter-widgets/controls",
       "_model_module_version": "1.5.0",
       "_model_name": "ProgressStyleModel",
       "_view_count": null,
       "_view_module": "@jupyter-widgets/base",
       "_view_module_version": "1.2.0",
       "_view_name": "StyleView",
       "bar_color": null,
       "description_width": ""
      }
     },
     "67deffde0e94466d9cb801fbd5509ab9": {
      "model_module": "@jupyter-widgets/controls",
      "model_module_version": "1.5.0",
      "model_name": "HTMLModel",
      "state": {
       "_dom_classes": [],
       "_model_module": "@jupyter-widgets/controls",
       "_model_module_version": "1.5.0",
       "_model_name": "HTMLModel",
       "_view_count": null,
       "_view_module": "@jupyter-widgets/controls",
       "_view_module_version": "1.5.0",
       "_view_name": "HTMLView",
       "description": "",
       "description_tooltip": null,
       "layout": "IPY_MODEL_e276cf1f1fb647699a5e36315c3194ce",
       "placeholder": "​",
       "style": "IPY_MODEL_3a9784981d8b44beb9470b9925d50bac",
       "value": "100%"
      }
     },
     "6c9bfa1a3f624f3b8cad256c1f071b8e": {
      "model_module": "@jupyter-widgets/base",
      "model_module_version": "1.2.0",
      "model_name": "LayoutModel",
      "state": {
       "_model_module": "@jupyter-widgets/base",
       "_model_module_version": "1.2.0",
       "_model_name": "LayoutModel",
       "_view_count": null,
       "_view_module": "@jupyter-widgets/base",
       "_view_module_version": "1.2.0",
       "_view_name": "LayoutView",
       "align_content": null,
       "align_items": null,
       "align_self": null,
       "border": null,
       "bottom": null,
       "display": null,
       "flex": null,
       "flex_flow": null,
       "grid_area": null,
       "grid_auto_columns": null,
       "grid_auto_flow": null,
       "grid_auto_rows": null,
       "grid_column": null,
       "grid_gap": null,
       "grid_row": null,
       "grid_template_areas": null,
       "grid_template_columns": null,
       "grid_template_rows": null,
       "height": null,
       "justify_content": null,
       "justify_items": null,
       "left": null,
       "margin": null,
       "max_height": null,
       "max_width": null,
       "min_height": null,
       "min_width": null,
       "object_fit": null,
       "object_position": null,
       "order": null,
       "overflow": null,
       "overflow_x": null,
       "overflow_y": null,
       "padding": null,
       "right": null,
       "top": null,
       "visibility": null,
       "width": null
      }
     },
     "6e5d863e11b5412abbe27d2703a3a6a2": {
      "model_module": "@jupyter-widgets/base",
      "model_module_version": "1.2.0",
      "model_name": "LayoutModel",
      "state": {
       "_model_module": "@jupyter-widgets/base",
       "_model_module_version": "1.2.0",
       "_model_name": "LayoutModel",
       "_view_count": null,
       "_view_module": "@jupyter-widgets/base",
       "_view_module_version": "1.2.0",
       "_view_name": "LayoutView",
       "align_content": null,
       "align_items": null,
       "align_self": null,
       "border": null,
       "bottom": null,
       "display": null,
       "flex": null,
       "flex_flow": null,
       "grid_area": null,
       "grid_auto_columns": null,
       "grid_auto_flow": null,
       "grid_auto_rows": null,
       "grid_column": null,
       "grid_gap": null,
       "grid_row": null,
       "grid_template_areas": null,
       "grid_template_columns": null,
       "grid_template_rows": null,
       "height": null,
       "justify_content": null,
       "justify_items": null,
       "left": null,
       "margin": null,
       "max_height": null,
       "max_width": null,
       "min_height": null,
       "min_width": null,
       "object_fit": null,
       "object_position": null,
       "order": null,
       "overflow": null,
       "overflow_x": null,
       "overflow_y": null,
       "padding": null,
       "right": null,
       "top": null,
       "visibility": null,
       "width": null
      }
     },
     "733b618859c646a0a6c9ab88f221342a": {
      "model_module": "@jupyter-widgets/controls",
      "model_module_version": "1.5.0",
      "model_name": "HTMLModel",
      "state": {
       "_dom_classes": [],
       "_model_module": "@jupyter-widgets/controls",
       "_model_module_version": "1.5.0",
       "_model_name": "HTMLModel",
       "_view_count": null,
       "_view_module": "@jupyter-widgets/controls",
       "_view_module_version": "1.5.0",
       "_view_name": "HTMLView",
       "description": "",
       "description_tooltip": null,
       "layout": "IPY_MODEL_5b4c326abd1a4fc787a474a25822b6e2",
       "placeholder": "​",
       "style": "IPY_MODEL_c8f23880343e42598f32057c37632e00",
       "value": " 100/100 [00:21&lt;00:00,  6.39it/s]"
      }
     },
     "73903cd1dedf47978134cda6f2d3607e": {
      "model_module": "@jupyter-widgets/base",
      "model_module_version": "1.2.0",
      "model_name": "LayoutModel",
      "state": {
       "_model_module": "@jupyter-widgets/base",
       "_model_module_version": "1.2.0",
       "_model_name": "LayoutModel",
       "_view_count": null,
       "_view_module": "@jupyter-widgets/base",
       "_view_module_version": "1.2.0",
       "_view_name": "LayoutView",
       "align_content": null,
       "align_items": null,
       "align_self": null,
       "border": null,
       "bottom": null,
       "display": null,
       "flex": null,
       "flex_flow": null,
       "grid_area": null,
       "grid_auto_columns": null,
       "grid_auto_flow": null,
       "grid_auto_rows": null,
       "grid_column": null,
       "grid_gap": null,
       "grid_row": null,
       "grid_template_areas": null,
       "grid_template_columns": null,
       "grid_template_rows": null,
       "height": null,
       "justify_content": null,
       "justify_items": null,
       "left": null,
       "margin": null,
       "max_height": null,
       "max_width": null,
       "min_height": null,
       "min_width": null,
       "object_fit": null,
       "object_position": null,
       "order": null,
       "overflow": null,
       "overflow_x": null,
       "overflow_y": null,
       "padding": null,
       "right": null,
       "top": null,
       "visibility": null,
       "width": null
      }
     },
     "78aad049b2fd4ddea07a60a4cdfc9664": {
      "model_module": "@jupyter-widgets/controls",
      "model_module_version": "1.5.0",
      "model_name": "HTMLModel",
      "state": {
       "_dom_classes": [],
       "_model_module": "@jupyter-widgets/controls",
       "_model_module_version": "1.5.0",
       "_model_name": "HTMLModel",
       "_view_count": null,
       "_view_module": "@jupyter-widgets/controls",
       "_view_module_version": "1.5.0",
       "_view_name": "HTMLView",
       "description": "",
       "description_tooltip": null,
       "layout": "IPY_MODEL_6e5d863e11b5412abbe27d2703a3a6a2",
       "placeholder": "​",
       "style": "IPY_MODEL_4126cec5c15c44908c4e64f1e70d4a80",
       "value": " 89/89 [00:14&lt;00:00,  6.32it/s, Loss=0.0104]"
      }
     },
     "7a9b8b0b8ce14f8892a974339afc01af": {
      "model_module": "@jupyter-widgets/controls",
      "model_module_version": "1.5.0",
      "model_name": "HTMLModel",
      "state": {
       "_dom_classes": [],
       "_model_module": "@jupyter-widgets/controls",
       "_model_module_version": "1.5.0",
       "_model_name": "HTMLModel",
       "_view_count": null,
       "_view_module": "@jupyter-widgets/controls",
       "_view_module_version": "1.5.0",
       "_view_name": "HTMLView",
       "description": "",
       "description_tooltip": null,
       "layout": "IPY_MODEL_9d4bc6887ef14a7ebcea6a73a0795d2e",
       "placeholder": "​",
       "style": "IPY_MODEL_528d25b58d754614be57ba5e1be6bbfd",
       "value": "100%"
      }
     },
     "7a9bc3998f3d4f53a1bcc5e3672b06c1": {
      "model_module": "@jupyter-widgets/base",
      "model_module_version": "1.2.0",
      "model_name": "LayoutModel",
      "state": {
       "_model_module": "@jupyter-widgets/base",
       "_model_module_version": "1.2.0",
       "_model_name": "LayoutModel",
       "_view_count": null,
       "_view_module": "@jupyter-widgets/base",
       "_view_module_version": "1.2.0",
       "_view_name": "LayoutView",
       "align_content": null,
       "align_items": null,
       "align_self": null,
       "border": null,
       "bottom": null,
       "display": null,
       "flex": null,
       "flex_flow": null,
       "grid_area": null,
       "grid_auto_columns": null,
       "grid_auto_flow": null,
       "grid_auto_rows": null,
       "grid_column": null,
       "grid_gap": null,
       "grid_row": null,
       "grid_template_areas": null,
       "grid_template_columns": null,
       "grid_template_rows": null,
       "height": null,
       "justify_content": null,
       "justify_items": null,
       "left": null,
       "margin": null,
       "max_height": null,
       "max_width": null,
       "min_height": null,
       "min_width": null,
       "object_fit": null,
       "object_position": null,
       "order": null,
       "overflow": null,
       "overflow_x": null,
       "overflow_y": null,
       "padding": null,
       "right": null,
       "top": null,
       "visibility": null,
       "width": null
      }
     },
     "7df4e279b4534bfaa01ebe577fb88506": {
      "model_module": "@jupyter-widgets/controls",
      "model_module_version": "1.5.0",
      "model_name": "DescriptionStyleModel",
      "state": {
       "_model_module": "@jupyter-widgets/controls",
       "_model_module_version": "1.5.0",
       "_model_name": "DescriptionStyleModel",
       "_view_count": null,
       "_view_module": "@jupyter-widgets/base",
       "_view_module_version": "1.2.0",
       "_view_name": "StyleView",
       "description_width": ""
      }
     },
     "8289f357121b46a1a65ff208f0a8703f": {
      "model_module": "@jupyter-widgets/controls",
      "model_module_version": "1.5.0",
      "model_name": "HTMLModel",
      "state": {
       "_dom_classes": [],
       "_model_module": "@jupyter-widgets/controls",
       "_model_module_version": "1.5.0",
       "_model_name": "HTMLModel",
       "_view_count": null,
       "_view_module": "@jupyter-widgets/controls",
       "_view_module_version": "1.5.0",
       "_view_name": "HTMLView",
       "description": "",
       "description_tooltip": null,
       "layout": "IPY_MODEL_48f2cdaf198448998291617054ea7471",
       "placeholder": "​",
       "style": "IPY_MODEL_06589cdb73d84f00af056565175b9d13",
       "value": " 89/89 [00:14&lt;00:00,  6.27it/s, Loss=0.00639]"
      }
     },
     "82cf4ca4ab6e43ca9d1162d82f0921da": {
      "model_module": "@jupyter-widgets/controls",
      "model_module_version": "1.5.0",
      "model_name": "FloatProgressModel",
      "state": {
       "_dom_classes": [],
       "_model_module": "@jupyter-widgets/controls",
       "_model_module_version": "1.5.0",
       "_model_name": "FloatProgressModel",
       "_view_count": null,
       "_view_module": "@jupyter-widgets/controls",
       "_view_module_version": "1.5.0",
       "_view_name": "ProgressView",
       "bar_style": "success",
       "description": "",
       "description_tooltip": null,
       "layout": "IPY_MODEL_5a8f048fdcb9409b8b7755ed33f8f1c7",
       "max": 89.0,
       "min": 0.0,
       "orientation": "horizontal",
       "style": "IPY_MODEL_a93e4d26e2744d3d82df62c8f1a57201",
       "value": 89.0
      }
     },
     "83b2e5eebfa64805a9fbfda04ecf3ba4": {
      "model_module": "@jupyter-widgets/controls",
      "model_module_version": "1.5.0",
      "model_name": "HTMLModel",
      "state": {
       "_dom_classes": [],
       "_model_module": "@jupyter-widgets/controls",
       "_model_module_version": "1.5.0",
       "_model_name": "HTMLModel",
       "_view_count": null,
       "_view_module": "@jupyter-widgets/controls",
       "_view_module_version": "1.5.0",
       "_view_name": "HTMLView",
       "description": "",
       "description_tooltip": null,
       "layout": "IPY_MODEL_9d2c633d451d4f4f95dd01e9047116bd",
       "placeholder": "​",
       "style": "IPY_MODEL_163fa1689ad6454684bd0d834e60be91",
       "value": "100%"
      }
     },
     "85aa5f27e1e345c0be38ea106d6a2c59": {
      "model_module": "@jupyter-widgets/controls",
      "model_module_version": "1.5.0",
      "model_name": "FloatProgressModel",
      "state": {
       "_dom_classes": [],
       "_model_module": "@jupyter-widgets/controls",
       "_model_module_version": "1.5.0",
       "_model_name": "FloatProgressModel",
       "_view_count": null,
       "_view_module": "@jupyter-widgets/controls",
       "_view_module_version": "1.5.0",
       "_view_name": "ProgressView",
       "bar_style": "success",
       "description": "",
       "description_tooltip": null,
       "layout": "IPY_MODEL_0f79190f3dbd4810af5ee5740ab000e9",
       "max": 89.0,
       "min": 0.0,
       "orientation": "horizontal",
       "style": "IPY_MODEL_26c3e535e7a6486aae14b572b539140a",
       "value": 89.0
      }
     },
     "868f42e13c8249208570777be3e50f30": {
      "model_module": "@jupyter-widgets/controls",
      "model_module_version": "1.5.0",
      "model_name": "HTMLModel",
      "state": {
       "_dom_classes": [],
       "_model_module": "@jupyter-widgets/controls",
       "_model_module_version": "1.5.0",
       "_model_name": "HTMLModel",
       "_view_count": null,
       "_view_module": "@jupyter-widgets/controls",
       "_view_module_version": "1.5.0",
       "_view_name": "HTMLView",
       "description": "",
       "description_tooltip": null,
       "layout": "IPY_MODEL_58141350412b4839b7d9dbf40998f961",
       "placeholder": "​",
       "style": "IPY_MODEL_3c89232e27984a5a81a3fe1a53da8110",
       "value": " 89/89 [00:14&lt;00:00,  6.34it/s, Loss=0.00256]"
      }
     },
     "8ad0421b8f4a4b50b24bf2807d213b96": {
      "model_module": "@jupyter-widgets/base",
      "model_module_version": "1.2.0",
      "model_name": "LayoutModel",
      "state": {
       "_model_module": "@jupyter-widgets/base",
       "_model_module_version": "1.2.0",
       "_model_name": "LayoutModel",
       "_view_count": null,
       "_view_module": "@jupyter-widgets/base",
       "_view_module_version": "1.2.0",
       "_view_name": "LayoutView",
       "align_content": null,
       "align_items": null,
       "align_self": null,
       "border": null,
       "bottom": null,
       "display": null,
       "flex": null,
       "flex_flow": null,
       "grid_area": null,
       "grid_auto_columns": null,
       "grid_auto_flow": null,
       "grid_auto_rows": null,
       "grid_column": null,
       "grid_gap": null,
       "grid_row": null,
       "grid_template_areas": null,
       "grid_template_columns": null,
       "grid_template_rows": null,
       "height": null,
       "justify_content": null,
       "justify_items": null,
       "left": null,
       "margin": null,
       "max_height": null,
       "max_width": null,
       "min_height": null,
       "min_width": null,
       "object_fit": null,
       "object_position": null,
       "order": null,
       "overflow": null,
       "overflow_x": null,
       "overflow_y": null,
       "padding": null,
       "right": null,
       "top": null,
       "visibility": null,
       "width": null
      }
     },
     "8b6b0409b2da4405b6c94b94790bde39": {
      "model_module": "@jupyter-widgets/base",
      "model_module_version": "1.2.0",
      "model_name": "LayoutModel",
      "state": {
       "_model_module": "@jupyter-widgets/base",
       "_model_module_version": "1.2.0",
       "_model_name": "LayoutModel",
       "_view_count": null,
       "_view_module": "@jupyter-widgets/base",
       "_view_module_version": "1.2.0",
       "_view_name": "LayoutView",
       "align_content": null,
       "align_items": null,
       "align_self": null,
       "border": null,
       "bottom": null,
       "display": null,
       "flex": null,
       "flex_flow": null,
       "grid_area": null,
       "grid_auto_columns": null,
       "grid_auto_flow": null,
       "grid_auto_rows": null,
       "grid_column": null,
       "grid_gap": null,
       "grid_row": null,
       "grid_template_areas": null,
       "grid_template_columns": null,
       "grid_template_rows": null,
       "height": null,
       "justify_content": null,
       "justify_items": null,
       "left": null,
       "margin": null,
       "max_height": null,
       "max_width": null,
       "min_height": null,
       "min_width": null,
       "object_fit": null,
       "object_position": null,
       "order": null,
       "overflow": null,
       "overflow_x": null,
       "overflow_y": null,
       "padding": null,
       "right": null,
       "top": null,
       "visibility": null,
       "width": null
      }
     },
     "953a7dd56579451e9033809a328e131b": {
      "model_module": "@jupyter-widgets/base",
      "model_module_version": "1.2.0",
      "model_name": "LayoutModel",
      "state": {
       "_model_module": "@jupyter-widgets/base",
       "_model_module_version": "1.2.0",
       "_model_name": "LayoutModel",
       "_view_count": null,
       "_view_module": "@jupyter-widgets/base",
       "_view_module_version": "1.2.0",
       "_view_name": "LayoutView",
       "align_content": null,
       "align_items": null,
       "align_self": null,
       "border": null,
       "bottom": null,
       "display": null,
       "flex": null,
       "flex_flow": null,
       "grid_area": null,
       "grid_auto_columns": null,
       "grid_auto_flow": null,
       "grid_auto_rows": null,
       "grid_column": null,
       "grid_gap": null,
       "grid_row": null,
       "grid_template_areas": null,
       "grid_template_columns": null,
       "grid_template_rows": null,
       "height": null,
       "justify_content": null,
       "justify_items": null,
       "left": null,
       "margin": null,
       "max_height": null,
       "max_width": null,
       "min_height": null,
       "min_width": null,
       "object_fit": null,
       "object_position": null,
       "order": null,
       "overflow": null,
       "overflow_x": null,
       "overflow_y": null,
       "padding": null,
       "right": null,
       "top": null,
       "visibility": null,
       "width": null
      }
     },
     "9d2c633d451d4f4f95dd01e9047116bd": {
      "model_module": "@jupyter-widgets/base",
      "model_module_version": "1.2.0",
      "model_name": "LayoutModel",
      "state": {
       "_model_module": "@jupyter-widgets/base",
       "_model_module_version": "1.2.0",
       "_model_name": "LayoutModel",
       "_view_count": null,
       "_view_module": "@jupyter-widgets/base",
       "_view_module_version": "1.2.0",
       "_view_name": "LayoutView",
       "align_content": null,
       "align_items": null,
       "align_self": null,
       "border": null,
       "bottom": null,
       "display": null,
       "flex": null,
       "flex_flow": null,
       "grid_area": null,
       "grid_auto_columns": null,
       "grid_auto_flow": null,
       "grid_auto_rows": null,
       "grid_column": null,
       "grid_gap": null,
       "grid_row": null,
       "grid_template_areas": null,
       "grid_template_columns": null,
       "grid_template_rows": null,
       "height": null,
       "justify_content": null,
       "justify_items": null,
       "left": null,
       "margin": null,
       "max_height": null,
       "max_width": null,
       "min_height": null,
       "min_width": null,
       "object_fit": null,
       "object_position": null,
       "order": null,
       "overflow": null,
       "overflow_x": null,
       "overflow_y": null,
       "padding": null,
       "right": null,
       "top": null,
       "visibility": null,
       "width": null
      }
     },
     "9d4bc6887ef14a7ebcea6a73a0795d2e": {
      "model_module": "@jupyter-widgets/base",
      "model_module_version": "1.2.0",
      "model_name": "LayoutModel",
      "state": {
       "_model_module": "@jupyter-widgets/base",
       "_model_module_version": "1.2.0",
       "_model_name": "LayoutModel",
       "_view_count": null,
       "_view_module": "@jupyter-widgets/base",
       "_view_module_version": "1.2.0",
       "_view_name": "LayoutView",
       "align_content": null,
       "align_items": null,
       "align_self": null,
       "border": null,
       "bottom": null,
       "display": null,
       "flex": null,
       "flex_flow": null,
       "grid_area": null,
       "grid_auto_columns": null,
       "grid_auto_flow": null,
       "grid_auto_rows": null,
       "grid_column": null,
       "grid_gap": null,
       "grid_row": null,
       "grid_template_areas": null,
       "grid_template_columns": null,
       "grid_template_rows": null,
       "height": null,
       "justify_content": null,
       "justify_items": null,
       "left": null,
       "margin": null,
       "max_height": null,
       "max_width": null,
       "min_height": null,
       "min_width": null,
       "object_fit": null,
       "object_position": null,
       "order": null,
       "overflow": null,
       "overflow_x": null,
       "overflow_y": null,
       "padding": null,
       "right": null,
       "top": null,
       "visibility": null,
       "width": null
      }
     },
     "9dc51e66b0a94e2586eec71dee30e804": {
      "model_module": "@jupyter-widgets/base",
      "model_module_version": "1.2.0",
      "model_name": "LayoutModel",
      "state": {
       "_model_module": "@jupyter-widgets/base",
       "_model_module_version": "1.2.0",
       "_model_name": "LayoutModel",
       "_view_count": null,
       "_view_module": "@jupyter-widgets/base",
       "_view_module_version": "1.2.0",
       "_view_name": "LayoutView",
       "align_content": null,
       "align_items": null,
       "align_self": null,
       "border": null,
       "bottom": null,
       "display": null,
       "flex": null,
       "flex_flow": null,
       "grid_area": null,
       "grid_auto_columns": null,
       "grid_auto_flow": null,
       "grid_auto_rows": null,
       "grid_column": null,
       "grid_gap": null,
       "grid_row": null,
       "grid_template_areas": null,
       "grid_template_columns": null,
       "grid_template_rows": null,
       "height": null,
       "justify_content": null,
       "justify_items": null,
       "left": null,
       "margin": null,
       "max_height": null,
       "max_width": null,
       "min_height": null,
       "min_width": null,
       "object_fit": null,
       "object_position": null,
       "order": null,
       "overflow": null,
       "overflow_x": null,
       "overflow_y": null,
       "padding": null,
       "right": null,
       "top": null,
       "visibility": null,
       "width": null
      }
     },
     "a361b16465094760bb6c2a13c9c7bd1d": {
      "model_module": "@jupyter-widgets/controls",
      "model_module_version": "1.5.0",
      "model_name": "HBoxModel",
      "state": {
       "_dom_classes": [],
       "_model_module": "@jupyter-widgets/controls",
       "_model_module_version": "1.5.0",
       "_model_name": "HBoxModel",
       "_view_count": null,
       "_view_module": "@jupyter-widgets/controls",
       "_view_module_version": "1.5.0",
       "_view_name": "HBoxView",
       "box_style": "",
       "children": [
        "IPY_MODEL_3f284bdfc0d7446ebdf3d610b97a77fc",
        "IPY_MODEL_85aa5f27e1e345c0be38ea106d6a2c59",
        "IPY_MODEL_78aad049b2fd4ddea07a60a4cdfc9664"
       ],
       "layout": "IPY_MODEL_73903cd1dedf47978134cda6f2d3607e"
      }
     },
     "a5a89ee86c7f4cd7bd7dc43ba6bb1f5c": {
      "model_module": "@jupyter-widgets/base",
      "model_module_version": "1.2.0",
      "model_name": "LayoutModel",
      "state": {
       "_model_module": "@jupyter-widgets/base",
       "_model_module_version": "1.2.0",
       "_model_name": "LayoutModel",
       "_view_count": null,
       "_view_module": "@jupyter-widgets/base",
       "_view_module_version": "1.2.0",
       "_view_name": "LayoutView",
       "align_content": null,
       "align_items": null,
       "align_self": null,
       "border": null,
       "bottom": null,
       "display": null,
       "flex": null,
       "flex_flow": null,
       "grid_area": null,
       "grid_auto_columns": null,
       "grid_auto_flow": null,
       "grid_auto_rows": null,
       "grid_column": null,
       "grid_gap": null,
       "grid_row": null,
       "grid_template_areas": null,
       "grid_template_columns": null,
       "grid_template_rows": null,
       "height": null,
       "justify_content": null,
       "justify_items": null,
       "left": null,
       "margin": null,
       "max_height": null,
       "max_width": null,
       "min_height": null,
       "min_width": null,
       "object_fit": null,
       "object_position": null,
       "order": null,
       "overflow": null,
       "overflow_x": null,
       "overflow_y": null,
       "padding": null,
       "right": null,
       "top": null,
       "visibility": null,
       "width": null
      }
     },
     "a93e4d26e2744d3d82df62c8f1a57201": {
      "model_module": "@jupyter-widgets/controls",
      "model_module_version": "1.5.0",
      "model_name": "ProgressStyleModel",
      "state": {
       "_model_module": "@jupyter-widgets/controls",
       "_model_module_version": "1.5.0",
       "_model_name": "ProgressStyleModel",
       "_view_count": null,
       "_view_module": "@jupyter-widgets/base",
       "_view_module_version": "1.2.0",
       "_view_name": "StyleView",
       "bar_color": null,
       "description_width": ""
      }
     },
     "accf47dc45484b3d841a903f8db04fd7": {
      "model_module": "@jupyter-widgets/controls",
      "model_module_version": "1.5.0",
      "model_name": "DescriptionStyleModel",
      "state": {
       "_model_module": "@jupyter-widgets/controls",
       "_model_module_version": "1.5.0",
       "_model_name": "DescriptionStyleModel",
       "_view_count": null,
       "_view_module": "@jupyter-widgets/base",
       "_view_module_version": "1.2.0",
       "_view_name": "StyleView",
       "description_width": ""
      }
     },
     "b1157a3ee06644838e4a6b592465b941": {
      "model_module": "@jupyter-widgets/base",
      "model_module_version": "1.2.0",
      "model_name": "LayoutModel",
      "state": {
       "_model_module": "@jupyter-widgets/base",
       "_model_module_version": "1.2.0",
       "_model_name": "LayoutModel",
       "_view_count": null,
       "_view_module": "@jupyter-widgets/base",
       "_view_module_version": "1.2.0",
       "_view_name": "LayoutView",
       "align_content": null,
       "align_items": null,
       "align_self": null,
       "border": null,
       "bottom": null,
       "display": null,
       "flex": null,
       "flex_flow": null,
       "grid_area": null,
       "grid_auto_columns": null,
       "grid_auto_flow": null,
       "grid_auto_rows": null,
       "grid_column": null,
       "grid_gap": null,
       "grid_row": null,
       "grid_template_areas": null,
       "grid_template_columns": null,
       "grid_template_rows": null,
       "height": null,
       "justify_content": null,
       "justify_items": null,
       "left": null,
       "margin": null,
       "max_height": null,
       "max_width": null,
       "min_height": null,
       "min_width": null,
       "object_fit": null,
       "object_position": null,
       "order": null,
       "overflow": null,
       "overflow_x": null,
       "overflow_y": null,
       "padding": null,
       "right": null,
       "top": null,
       "visibility": null,
       "width": null
      }
     },
     "b6d5c5c3189d4d2898837d1a17855aec": {
      "model_module": "@jupyter-widgets/base",
      "model_module_version": "1.2.0",
      "model_name": "LayoutModel",
      "state": {
       "_model_module": "@jupyter-widgets/base",
       "_model_module_version": "1.2.0",
       "_model_name": "LayoutModel",
       "_view_count": null,
       "_view_module": "@jupyter-widgets/base",
       "_view_module_version": "1.2.0",
       "_view_name": "LayoutView",
       "align_content": null,
       "align_items": null,
       "align_self": null,
       "border": null,
       "bottom": null,
       "display": null,
       "flex": null,
       "flex_flow": null,
       "grid_area": null,
       "grid_auto_columns": null,
       "grid_auto_flow": null,
       "grid_auto_rows": null,
       "grid_column": null,
       "grid_gap": null,
       "grid_row": null,
       "grid_template_areas": null,
       "grid_template_columns": null,
       "grid_template_rows": null,
       "height": null,
       "justify_content": null,
       "justify_items": null,
       "left": null,
       "margin": null,
       "max_height": null,
       "max_width": null,
       "min_height": null,
       "min_width": null,
       "object_fit": null,
       "object_position": null,
       "order": null,
       "overflow": null,
       "overflow_x": null,
       "overflow_y": null,
       "padding": null,
       "right": null,
       "top": null,
       "visibility": null,
       "width": null
      }
     },
     "bc3f7507ebcf4bfa9297b57bc966a84e": {
      "model_module": "@jupyter-widgets/base",
      "model_module_version": "1.2.0",
      "model_name": "LayoutModel",
      "state": {
       "_model_module": "@jupyter-widgets/base",
       "_model_module_version": "1.2.0",
       "_model_name": "LayoutModel",
       "_view_count": null,
       "_view_module": "@jupyter-widgets/base",
       "_view_module_version": "1.2.0",
       "_view_name": "LayoutView",
       "align_content": null,
       "align_items": null,
       "align_self": null,
       "border": null,
       "bottom": null,
       "display": null,
       "flex": null,
       "flex_flow": null,
       "grid_area": null,
       "grid_auto_columns": null,
       "grid_auto_flow": null,
       "grid_auto_rows": null,
       "grid_column": null,
       "grid_gap": null,
       "grid_row": null,
       "grid_template_areas": null,
       "grid_template_columns": null,
       "grid_template_rows": null,
       "height": null,
       "justify_content": null,
       "justify_items": null,
       "left": null,
       "margin": null,
       "max_height": null,
       "max_width": null,
       "min_height": null,
       "min_width": null,
       "object_fit": null,
       "object_position": null,
       "order": null,
       "overflow": null,
       "overflow_x": null,
       "overflow_y": null,
       "padding": null,
       "right": null,
       "top": null,
       "visibility": null,
       "width": null
      }
     },
     "c444bc2441eb41dd97b30f5d70298d23": {
      "model_module": "@jupyter-widgets/controls",
      "model_module_version": "1.5.0",
      "model_name": "HTMLModel",
      "state": {
       "_dom_classes": [],
       "_model_module": "@jupyter-widgets/controls",
       "_model_module_version": "1.5.0",
       "_model_name": "HTMLModel",
       "_view_count": null,
       "_view_module": "@jupyter-widgets/controls",
       "_view_module_version": "1.5.0",
       "_view_name": "HTMLView",
       "description": "",
       "description_tooltip": null,
       "layout": "IPY_MODEL_c94b9b78e8e6441c83e931549d5afce4",
       "placeholder": "​",
       "style": "IPY_MODEL_4c7f0b4f41874a95a536b2f657b52245",
       "value": "100%"
      }
     },
     "c8f23880343e42598f32057c37632e00": {
      "model_module": "@jupyter-widgets/controls",
      "model_module_version": "1.5.0",
      "model_name": "DescriptionStyleModel",
      "state": {
       "_model_module": "@jupyter-widgets/controls",
       "_model_module_version": "1.5.0",
       "_model_name": "DescriptionStyleModel",
       "_view_count": null,
       "_view_module": "@jupyter-widgets/base",
       "_view_module_version": "1.2.0",
       "_view_name": "StyleView",
       "description_width": ""
      }
     },
     "c94b9b78e8e6441c83e931549d5afce4": {
      "model_module": "@jupyter-widgets/base",
      "model_module_version": "1.2.0",
      "model_name": "LayoutModel",
      "state": {
       "_model_module": "@jupyter-widgets/base",
       "_model_module_version": "1.2.0",
       "_model_name": "LayoutModel",
       "_view_count": null,
       "_view_module": "@jupyter-widgets/base",
       "_view_module_version": "1.2.0",
       "_view_name": "LayoutView",
       "align_content": null,
       "align_items": null,
       "align_self": null,
       "border": null,
       "bottom": null,
       "display": null,
       "flex": null,
       "flex_flow": null,
       "grid_area": null,
       "grid_auto_columns": null,
       "grid_auto_flow": null,
       "grid_auto_rows": null,
       "grid_column": null,
       "grid_gap": null,
       "grid_row": null,
       "grid_template_areas": null,
       "grid_template_columns": null,
       "grid_template_rows": null,
       "height": null,
       "justify_content": null,
       "justify_items": null,
       "left": null,
       "margin": null,
       "max_height": null,
       "max_width": null,
       "min_height": null,
       "min_width": null,
       "object_fit": null,
       "object_position": null,
       "order": null,
       "overflow": null,
       "overflow_x": null,
       "overflow_y": null,
       "padding": null,
       "right": null,
       "top": null,
       "visibility": null,
       "width": null
      }
     },
     "ce5c65569b1745d4a2444f393ff2861e": {
      "model_module": "@jupyter-widgets/controls",
      "model_module_version": "1.5.0",
      "model_name": "HBoxModel",
      "state": {
       "_dom_classes": [],
       "_model_module": "@jupyter-widgets/controls",
       "_model_module_version": "1.5.0",
       "_model_name": "HBoxModel",
       "_view_count": null,
       "_view_module": "@jupyter-widgets/controls",
       "_view_module_version": "1.5.0",
       "_view_name": "HBoxView",
       "box_style": "",
       "children": [
        "IPY_MODEL_c444bc2441eb41dd97b30f5d70298d23",
        "IPY_MODEL_2dfb770afb1f416ba5fc87b982396524",
        "IPY_MODEL_fe4472648217417a9c3779ae4c80a3c4"
       ],
       "layout": "IPY_MODEL_d038e97ac96c46759c06d4ce275e12c6"
      }
     },
     "d038e97ac96c46759c06d4ce275e12c6": {
      "model_module": "@jupyter-widgets/base",
      "model_module_version": "1.2.0",
      "model_name": "LayoutModel",
      "state": {
       "_model_module": "@jupyter-widgets/base",
       "_model_module_version": "1.2.0",
       "_model_name": "LayoutModel",
       "_view_count": null,
       "_view_module": "@jupyter-widgets/base",
       "_view_module_version": "1.2.0",
       "_view_name": "LayoutView",
       "align_content": null,
       "align_items": null,
       "align_self": null,
       "border": null,
       "bottom": null,
       "display": null,
       "flex": null,
       "flex_flow": null,
       "grid_area": null,
       "grid_auto_columns": null,
       "grid_auto_flow": null,
       "grid_auto_rows": null,
       "grid_column": null,
       "grid_gap": null,
       "grid_row": null,
       "grid_template_areas": null,
       "grid_template_columns": null,
       "grid_template_rows": null,
       "height": null,
       "justify_content": null,
       "justify_items": null,
       "left": null,
       "margin": null,
       "max_height": null,
       "max_width": null,
       "min_height": null,
       "min_width": null,
       "object_fit": null,
       "object_position": null,
       "order": null,
       "overflow": null,
       "overflow_x": null,
       "overflow_y": null,
       "padding": null,
       "right": null,
       "top": null,
       "visibility": null,
       "width": null
      }
     },
     "d3db50990e144b259f12ead496cafe49": {
      "model_module": "@jupyter-widgets/controls",
      "model_module_version": "1.5.0",
      "model_name": "DescriptionStyleModel",
      "state": {
       "_model_module": "@jupyter-widgets/controls",
       "_model_module_version": "1.5.0",
       "_model_name": "DescriptionStyleModel",
       "_view_count": null,
       "_view_module": "@jupyter-widgets/base",
       "_view_module_version": "1.2.0",
       "_view_name": "StyleView",
       "description_width": ""
      }
     },
     "d59b251d498140ae9ffb67ab1f3af44e": {
      "model_module": "@jupyter-widgets/controls",
      "model_module_version": "1.5.0",
      "model_name": "HTMLModel",
      "state": {
       "_dom_classes": [],
       "_model_module": "@jupyter-widgets/controls",
       "_model_module_version": "1.5.0",
       "_model_name": "HTMLModel",
       "_view_count": null,
       "_view_module": "@jupyter-widgets/controls",
       "_view_module_version": "1.5.0",
       "_view_name": "HTMLView",
       "description": "",
       "description_tooltip": null,
       "layout": "IPY_MODEL_9dc51e66b0a94e2586eec71dee30e804",
       "placeholder": "​",
       "style": "IPY_MODEL_accf47dc45484b3d841a903f8db04fd7",
       "value": " 89/89 [00:14&lt;00:00,  6.37it/s, Loss=0.00198]"
      }
     },
     "d9417387245e4602862e8c5d3c9f875e": {
      "model_module": "@jupyter-widgets/controls",
      "model_module_version": "1.5.0",
      "model_name": "HTMLModel",
      "state": {
       "_dom_classes": [],
       "_model_module": "@jupyter-widgets/controls",
       "_model_module_version": "1.5.0",
       "_model_name": "HTMLModel",
       "_view_count": null,
       "_view_module": "@jupyter-widgets/controls",
       "_view_module_version": "1.5.0",
       "_view_name": "HTMLView",
       "description": "",
       "description_tooltip": null,
       "layout": "IPY_MODEL_e84cd4dbf04e422398dbed29e914deba",
       "placeholder": "​",
       "style": "IPY_MODEL_d3db50990e144b259f12ead496cafe49",
       "value": "100%"
      }
     },
     "e276cf1f1fb647699a5e36315c3194ce": {
      "model_module": "@jupyter-widgets/base",
      "model_module_version": "1.2.0",
      "model_name": "LayoutModel",
      "state": {
       "_model_module": "@jupyter-widgets/base",
       "_model_module_version": "1.2.0",
       "_model_name": "LayoutModel",
       "_view_count": null,
       "_view_module": "@jupyter-widgets/base",
       "_view_module_version": "1.2.0",
       "_view_name": "LayoutView",
       "align_content": null,
       "align_items": null,
       "align_self": null,
       "border": null,
       "bottom": null,
       "display": null,
       "flex": null,
       "flex_flow": null,
       "grid_area": null,
       "grid_auto_columns": null,
       "grid_auto_flow": null,
       "grid_auto_rows": null,
       "grid_column": null,
       "grid_gap": null,
       "grid_row": null,
       "grid_template_areas": null,
       "grid_template_columns": null,
       "grid_template_rows": null,
       "height": null,
       "justify_content": null,
       "justify_items": null,
       "left": null,
       "margin": null,
       "max_height": null,
       "max_width": null,
       "min_height": null,
       "min_width": null,
       "object_fit": null,
       "object_position": null,
       "order": null,
       "overflow": null,
       "overflow_x": null,
       "overflow_y": null,
       "padding": null,
       "right": null,
       "top": null,
       "visibility": null,
       "width": null
      }
     },
     "e497d58f04844ec9bfb45234d8dc8d88": {
      "model_module": "@jupyter-widgets/controls",
      "model_module_version": "1.5.0",
      "model_name": "FloatProgressModel",
      "state": {
       "_dom_classes": [],
       "_model_module": "@jupyter-widgets/controls",
       "_model_module_version": "1.5.0",
       "_model_name": "FloatProgressModel",
       "_view_count": null,
       "_view_module": "@jupyter-widgets/controls",
       "_view_module_version": "1.5.0",
       "_view_name": "ProgressView",
       "bar_style": "success",
       "description": "",
       "description_tooltip": null,
       "layout": "IPY_MODEL_8ad0421b8f4a4b50b24bf2807d213b96",
       "max": 89.0,
       "min": 0.0,
       "orientation": "horizontal",
       "style": "IPY_MODEL_4972278ec7934590a27ec15147ca7fb9",
       "value": 89.0
      }
     },
     "e5f140413fc54d95bc1831a429dfc633": {
      "model_module": "@jupyter-widgets/controls",
      "model_module_version": "1.5.0",
      "model_name": "ProgressStyleModel",
      "state": {
       "_model_module": "@jupyter-widgets/controls",
       "_model_module_version": "1.5.0",
       "_model_name": "ProgressStyleModel",
       "_view_count": null,
       "_view_module": "@jupyter-widgets/base",
       "_view_module_version": "1.2.0",
       "_view_name": "StyleView",
       "bar_color": null,
       "description_width": ""
      }
     },
     "e84cd4dbf04e422398dbed29e914deba": {
      "model_module": "@jupyter-widgets/base",
      "model_module_version": "1.2.0",
      "model_name": "LayoutModel",
      "state": {
       "_model_module": "@jupyter-widgets/base",
       "_model_module_version": "1.2.0",
       "_model_name": "LayoutModel",
       "_view_count": null,
       "_view_module": "@jupyter-widgets/base",
       "_view_module_version": "1.2.0",
       "_view_name": "LayoutView",
       "align_content": null,
       "align_items": null,
       "align_self": null,
       "border": null,
       "bottom": null,
       "display": null,
       "flex": null,
       "flex_flow": null,
       "grid_area": null,
       "grid_auto_columns": null,
       "grid_auto_flow": null,
       "grid_auto_rows": null,
       "grid_column": null,
       "grid_gap": null,
       "grid_row": null,
       "grid_template_areas": null,
       "grid_template_columns": null,
       "grid_template_rows": null,
       "height": null,
       "justify_content": null,
       "justify_items": null,
       "left": null,
       "margin": null,
       "max_height": null,
       "max_width": null,
       "min_height": null,
       "min_width": null,
       "object_fit": null,
       "object_position": null,
       "order": null,
       "overflow": null,
       "overflow_x": null,
       "overflow_y": null,
       "padding": null,
       "right": null,
       "top": null,
       "visibility": null,
       "width": null
      }
     },
     "ef85c42b49a94fb48e91d98ef0dbf78b": {
      "model_module": "@jupyter-widgets/controls",
      "model_module_version": "1.5.0",
      "model_name": "HBoxModel",
      "state": {
       "_dom_classes": [],
       "_model_module": "@jupyter-widgets/controls",
       "_model_module_version": "1.5.0",
       "_model_name": "HBoxModel",
       "_view_count": null,
       "_view_module": "@jupyter-widgets/controls",
       "_view_module_version": "1.5.0",
       "_view_name": "HBoxView",
       "box_style": "",
       "children": [
        "IPY_MODEL_7a9b8b0b8ce14f8892a974339afc01af",
        "IPY_MODEL_2bb63061f2b54b6ca51cdb795656b8ef",
        "IPY_MODEL_733b618859c646a0a6c9ab88f221342a"
       ],
       "layout": "IPY_MODEL_284bffa2546244d7bbe415f6ad961d17"
      }
     },
     "f17f0a7194ef450584a4c1d2ea2e7f6c": {
      "model_module": "@jupyter-widgets/controls",
      "model_module_version": "1.5.0",
      "model_name": "HBoxModel",
      "state": {
       "_dom_classes": [],
       "_model_module": "@jupyter-widgets/controls",
       "_model_module_version": "1.5.0",
       "_model_name": "HBoxModel",
       "_view_count": null,
       "_view_module": "@jupyter-widgets/controls",
       "_view_module_version": "1.5.0",
       "_view_name": "HBoxView",
       "box_style": "",
       "children": [
        "IPY_MODEL_d9417387245e4602862e8c5d3c9f875e",
        "IPY_MODEL_fc2bb1e7e06c4bbfa425533d8b653cd4",
        "IPY_MODEL_1435c934640346aeb651f1fc29d108cc"
       ],
       "layout": "IPY_MODEL_163ae0e4f3b64d7e9a6f4c3bf44d0bde"
      }
     },
     "fc2bb1e7e06c4bbfa425533d8b653cd4": {
      "model_module": "@jupyter-widgets/controls",
      "model_module_version": "1.5.0",
      "model_name": "FloatProgressModel",
      "state": {
       "_dom_classes": [],
       "_model_module": "@jupyter-widgets/controls",
       "_model_module_version": "1.5.0",
       "_model_name": "FloatProgressModel",
       "_view_count": null,
       "_view_module": "@jupyter-widgets/controls",
       "_view_module_version": "1.5.0",
       "_view_name": "ProgressView",
       "bar_style": "success",
       "description": "",
       "description_tooltip": null,
       "layout": "IPY_MODEL_2c70b9dcb3ee4c4cb9bd48cdac809ec8",
       "max": 46830571.0,
       "min": 0.0,
       "orientation": "horizontal",
       "style": "IPY_MODEL_e5f140413fc54d95bc1831a429dfc633",
       "value": 46830571.0
      }
     },
     "fe4472648217417a9c3779ae4c80a3c4": {
      "model_module": "@jupyter-widgets/controls",
      "model_module_version": "1.5.0",
      "model_name": "HTMLModel",
      "state": {
       "_dom_classes": [],
       "_model_module": "@jupyter-widgets/controls",
       "_model_module_version": "1.5.0",
       "_model_name": "HTMLModel",
       "_view_count": null,
       "_view_module": "@jupyter-widgets/controls",
       "_view_module_version": "1.5.0",
       "_view_name": "HTMLView",
       "description": "",
       "description_tooltip": null,
       "layout": "IPY_MODEL_b6d5c5c3189d4d2898837d1a17855aec",
       "placeholder": "​",
       "style": "IPY_MODEL_3ab42813da3e4c1c97550cb8f01545d5",
       "value": " 89/89 [00:14&lt;00:00,  6.13it/s, Loss=0.00287]"
      }
     }
    },
    "version_major": 2,
    "version_minor": 0
   }
  }
 },
 "nbformat": 4,
 "nbformat_minor": 5
}
